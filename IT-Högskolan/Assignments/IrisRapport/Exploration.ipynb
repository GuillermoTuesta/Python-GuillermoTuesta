{
 "cells": [
  {
   "cell_type": "code",
   "execution_count": 1,
   "metadata": {},
   "outputs": [
    {
     "name": "stdout",
     "output_type": "stream",
     "text": [
      "                 sepal_length  sepal_width  petal_length  petal_width\n",
      "class                                                                \n",
      "Iris-setosa             250.3        170.9          73.2         12.2\n",
      "Iris-versicolor         296.8        138.5         213.0         66.3\n",
      "Iris-virginica          329.4        148.7         277.6        101.3\n"
     ]
    },
    {
     "data": {
      "text/plain": [
       "array(['Iris-setosa', 'Iris-versicolor', 'Iris-virginica'], dtype=object)"
      ]
     },
     "execution_count": 1,
     "metadata": {},
     "output_type": "execute_result"
    }
   ],
   "source": [
    "import pandas as pd\n",
    "\n",
    "Iris = pd.read_csv('iris.csv')\n",
    "# Dataset of flowers.\n",
    "\n",
    "Iris.head()\n",
    "\n",
    "Iris.columns = [name.strip() for name in Iris.columns] # Remove leading/trailing whitespaces from column names.\n",
    "\n",
    "\n",
    "print(Iris.groupby(['class']).sum())\n",
    "Iris['class'].unique() # 3 Flowers\n",
    "\n"
   ]
  }
 ],
 "metadata": {
  "kernelspec": {
   "display_name": "Python 3",
   "language": "python",
   "name": "python3"
  },
  "language_info": {
   "codemirror_mode": {
    "name": "ipython",
    "version": 3
   },
   "file_extension": ".py",
   "mimetype": "text/x-python",
   "name": "python",
   "nbconvert_exporter": "python",
   "pygments_lexer": "ipython3",
   "version": "3.9.13"
  },
  "orig_nbformat": 4,
  "vscode": {
   "interpreter": {
    "hash": "591918dbf680b2bdff6f4384b96f2237519b8ab6acfadf1c6cb7dfdafe56e2cb"
   }
  }
 },
 "nbformat": 4,
 "nbformat_minor": 2
}
