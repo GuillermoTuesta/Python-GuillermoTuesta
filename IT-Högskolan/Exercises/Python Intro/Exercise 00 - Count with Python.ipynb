{
 "cells": [
  {
   "cell_type": "markdown",
   "metadata": {},
   "source": [
    "## 1. Pythagorean theorem (*)"
   ]
  },
  {
   "cell_type": "code",
   "execution_count": 2,
   "metadata": {},
   "outputs": [
    {
     "name": "stdout",
     "output_type": "stream",
     "text": [
      "The hypothenuse is 5.0 units long.\n"
     ]
    }
   ],
   "source": [
    "def hypothenuse(a,b):\n",
    "    return (a**2 + b**2)**(1/2)\n",
    "\n",
    "print(f\"The hypothenuse is {hypothenuse(3,4)} units long.\")"
   ]
  },
  {
   "cell_type": "markdown",
   "metadata": {},
   "source": [
    "-----\n",
    "## 2. Classification accuracy (*)"
   ]
  },
  {
   "cell_type": "code",
   "execution_count": 4,
   "metadata": {},
   "outputs": [
    {
     "name": "stdout",
     "output_type": "stream",
     "text": [
      "The model's accuracy is 82.1917808219178%\n"
     ]
    }
   ],
   "source": [
    "AccuracyPercent = 300/365 * 100\n",
    "print(f\"The model's accuracy is {AccuracyPercent}%\")"
   ]
  },
  {
   "cell_type": "markdown",
   "metadata": {},
   "source": [
    "---\n",
    "## 3. Classification accuracy (*)"
   ]
  },
  {
   "cell_type": "code",
   "execution_count": 6,
   "metadata": {},
   "outputs": [
    {
     "name": "stdout",
     "output_type": "stream",
     "text": [
      "The accuracy of this model is: 0.987\n"
     ]
    }
   ],
   "source": [
    "#This formula takes all the false positives/negatives over all guesses.\n",
    "print(f\"The accuracy of this model is: {(2+985)/(2+985+2+11)}\")"
   ]
  },
  {
   "cell_type": "markdown",
   "metadata": {},
   "source": [
    "--- \n",
    "## 4. Line (*)"
   ]
  },
  {
   "cell_type": "code",
   "execution_count": 8,
   "metadata": {},
   "outputs": [
    {
     "name": "stdout",
     "output_type": "stream",
     "text": [
      "4.0\n"
     ]
    }
   ],
   "source": [
    "''' \n",
    "The slope is linear (Shown in the picture of the exercise), so the point of B gives m = 1\n",
    "After 4 steps, it has risen by 3. k = 3/4\n",
    "'''\n",
    "\n",
    "def LinearSlopeY(k, m, x):\n",
    "    return k * x + m\n",
    "\n",
    "print(f\"{LinearSlopeY(3/4, 1, 4)}\")\n",
    "# This'll give the Y value at X = 4."
   ]
  },
  {
   "cell_type": "markdown",
   "metadata": {},
   "source": [
    "---\n",
    "## 5. Euclidean distance (*)"
   ]
  },
  {
   "cell_type": "code",
   "execution_count": 12,
   "metadata": {},
   "outputs": [
    {
     "name": "stdout",
     "output_type": "stream",
     "text": [
      "The distance between P1 and P2 is 26 distance units.\n"
     ]
    }
   ],
   "source": [
    "def EuclidianDistance(x1, y1, x2, y2):\n",
    "    return (x1 - x2)**2 + (y1 - y2)**2\n",
    "\n",
    "print(f\"The distance between P1 and P2 is {EuclidianDistance(3,5,-2,4)} distance units.\") "
   ]
  },
  {
   "cell_type": "markdown",
   "metadata": {},
   "source": [
    "---\n",
    "## 6. Euclidean distance in 3D (**)"
   ]
  },
  {
   "cell_type": "code",
   "execution_count": 14,
   "metadata": {},
   "outputs": [
    {
     "name": "stdout",
     "output_type": "stream",
     "text": [
      "The distance betweeen P1 and P2 is 4.123105625617661 distance units.\n"
     ]
    }
   ],
   "source": [
    "#The formula under \"hint\" gives:\n",
    "def EuclidianDistance(x1,y1,z1,x2,y2,z2):\n",
    "    return ((x1-x2)**2 + (y1-y2)**2 + (z1-z2)**2)**(1/2)\n",
    "\n",
    "print(f\"The distance betweeen P1 and P2 is {EuclidianDistance(2,1,4,3,1,0)} distance units.\")"
   ]
  }
 ],
 "metadata": {
  "kernelspec": {
   "display_name": "Python 3.9.13 64-bit",
   "language": "python",
   "name": "python3"
  },
  "language_info": {
   "codemirror_mode": {
    "name": "ipython",
    "version": 3
   },
   "file_extension": ".py",
   "mimetype": "text/x-python",
   "name": "python",
   "nbconvert_exporter": "python",
   "pygments_lexer": "ipython3",
   "version": "3.9.13"
  },
  "orig_nbformat": 4,
  "vscode": {
   "interpreter": {
    "hash": "e33bfc40c55d6392faa2ba66fc7634142bd77fa564fd6b4a9ca8b5d38a6f627a"
   }
  }
 },
 "nbformat": 4,
 "nbformat_minor": 2
}
