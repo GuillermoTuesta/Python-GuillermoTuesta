{
 "cells": [
  {
   "cell_type": "markdown",
   "metadata": {},
   "source": [
    "## 1. Curriculum (*)"
   ]
  },
  {
   "cell_type": "code",
   "execution_count": 2,
   "metadata": {},
   "outputs": [
    {
     "ename": "IndentationError",
     "evalue": "expected an indented block (3643949057.py, line 3)",
     "output_type": "error",
     "traceback": [
      "\u001b[1;36m  Input \u001b[1;32mIn [2]\u001b[1;36m\u001b[0m\n\u001b[1;33m    # Var är den filen??\u001b[0m\n\u001b[1;37m                        ^\u001b[0m\n\u001b[1;31mIndentationError\u001b[0m\u001b[1;31m:\u001b[0m expected an indented block\n"
     ]
    }
   ],
   "source": [
    "courses = dict(\n",
    "    intro_till_ai = 5,\n",
    "    programmering_med_python = 40,\n",
    "    databehandling = 25,\n",
    "    linjär_algebra = 20,\n",
    "    statistiska_metoder = 30,\n",
    "    maskininlärning = 45,\n",
    "    djup_maskininlärning = 40,\n",
    "    databaser = 25,\n",
    "    LIA_1 = 40,\n",
    "    dataengineering_och_agil_metodik = 45,\n",
    "    LIA_2 = 70,\n",
    "    examensarbete = 15,\n",
    ")\n",
    "\n",
    "\n"
   ]
  },
  {
   "cell_type": "markdown",
   "metadata": {},
   "source": [
    "## 2. Dice Simulation (*)"
   ]
  },
  {
   "cell_type": "code",
   "execution_count": null,
   "metadata": {},
   "outputs": [
    {
     "name": "stdout",
     "output_type": "stream",
     "text": [
      "{'1': 166878, '2': 166830, '3': 166466, '4': 167260, '5': 165754, '6': 166812}\n"
     ]
    }
   ],
   "source": [
    "from random import randint\n",
    "\n",
    "def DiceStats(Throws): # I've borrowed this function that I wrote for a previous assignment with a similar premise.\n",
    "    ''' RETURNS STATISTICS FROM AMOUNT OF THROWS. '''\n",
    "    OnesCaught = 0\n",
    "    TwosCaught = 0\n",
    "    ThreesCaught = 0\n",
    "    FoursCaught = 0\n",
    "    FivesCaught = 0\n",
    "    SixCaught = 0\n",
    "\n",
    "    for Throw in range(Throws):\n",
    "        RandomNum = randint(1,6)\n",
    "        OnesCaught      =   OnesCaught      + 1     if RandomNum == 1 else OnesCaught\n",
    "        TwosCaught      =   TwosCaught      + 1     if RandomNum == 2 else TwosCaught\n",
    "        ThreesCaught    =   ThreesCaught    + 1     if RandomNum == 3 else ThreesCaught\n",
    "        FoursCaught     =   FoursCaught     + 1     if RandomNum == 4 else FoursCaught\n",
    "        FivesCaught     =   FivesCaught     + 1     if RandomNum == 5 else FivesCaught\n",
    "        SixCaught       =   SixCaught       + 1     if RandomNum == 6 else SixCaught\n",
    "\n",
    "    return [OnesCaught, TwosCaught, ThreesCaught, FoursCaught, FivesCaught, SixCaught]\n",
    "\n",
    "DiceStatDictionary = {}\n",
    "for DiceNum, Amount in enumerate(DiceStats(1000000)):\n",
    "    DiceNum += 1\n",
    "    DiceStatDictionary[f\"{DiceNum}\"] = Amount\n",
    "\n",
    "print(DiceStatDictionary)"
   ]
  },
  {
   "cell_type": "markdown",
   "metadata": {},
   "source": [
    "## 3. Pokemon List (*)"
   ]
  },
  {
   "cell_type": "code",
   "execution_count": 12,
   "metadata": {},
   "outputs": [
    {
     "name": "stdout",
     "output_type": "stream",
     "text": [
      "Bulbasaur : ('GrÃ¤s/Gift', '1')\n",
      "Ivysaur : ('GrÃ¤s/Gift', '2')\n",
      "Venusaur : ('GrÃ¤s/Gift', '3')\n",
      "Charmander : ('Eld', '4')\n",
      "Charmeleon : ('Eld', '5')\n",
      "Charizard : ('Eld/Flygande', '6')\n",
      "Squirtle : ('Vatten', '7')\n",
      "Wartortle : ('Vatten', '8')\n",
      "Blastoise : ('Vatten', '9')\n",
      "Caterpie : ('Insekt', '10')\n",
      "Metapod : ('Insekt', '11')\n",
      "Butterfree : ('Insekt/Flygande', '12')\n",
      "Weedle : ('Insekt/Gift', '13')\n",
      "Kakuna : ('Insekt/Gift', '14')\n",
      "Beedrill : ('Insekt/Gift', '15')\n",
      "Pidgey : ('Normal/Flygande', '16')\n",
      "Pidgeotto : ('Normal/Flygande', '17')\n",
      "Pidgeot : ('Normal/Flygande', '18')\n",
      "Rattata : ('Normal', '19')\n",
      "Raticate : ('Normal', '20')\n",
      "Spearow : ('Normal/Flygande', '21')\n",
      "Fearow : ('Normal/Flygande', '22')\n",
      "Ekans : ('Gift', '23')\n",
      "Arbok : ('Gift', '24')\n",
      "Pikachu : ('Elektrisk', '25')\n",
      "Raichu : ('Elektrisk', '26')\n",
      "Sandshrew : ('Mark', '27')\n",
      "Sandslash : ('Mark', '28')\n",
      "Nidoranâ™€ : ('Gift', '29')\n",
      "Nidorina : ('Gift', '30')\n",
      "Nidoqueen : ('Gift/Mark', '31')\n",
      "Nidoranâ™‚ : ('Gift', '32')\n",
      "Nidorino : ('Gift', '33')\n",
      "Nidoking : ('Gift/Mark', '34')\n",
      "Clefairy : ('FÃ©', '35')\n",
      "Clefable : ('FÃ©', '36')\n",
      "Vulpix : ('Eld', '37')\n",
      "Ninetales : ('Eld', '38')\n",
      "Jigglypuff : ('Normal/FÃ©', '39')\n",
      "Wigglytuff : ('Normal/FÃ©', '40')\n",
      "Zubat : ('Gift/Flygande', '41')\n",
      "Golbat : ('Gift/Flygande', '42')\n",
      "Oddish : ('GrÃ¤s/Gift', '43')\n",
      "Gloom : ('GrÃ¤s/Gift', '44')\n",
      "Vileplume : ('GrÃ¤s/Gift', '45')\n",
      "Paras : ('Insekt/GrÃ¤s', '46')\n",
      "Parasect : ('Insekt/GrÃ¤s', '47')\n",
      "Venonat : ('Insekt/Gift', '48')\n",
      "Venomoth : ('Insekt/Gift', '49')\n",
      "Diglett : ('Mark', '50')\n",
      "Dugtrio : ('Mark', '51')\n",
      "Meowth : ('Normal', '52')\n",
      "Persian : ('Normal', '53')\n",
      "Psyduck : ('Vatten', '54')\n",
      "Golduck : ('Vatten', '55')\n",
      "Mankey : ('Kamp', '56')\n",
      "Primeape : ('Kamp', '57')\n",
      "Growlithe : ('Eld', '58')\n",
      "Arcanine : ('Eld', '59')\n",
      "Poliwag : ('Vatten', '60')\n",
      "Poliwhirl : ('Vatten', '61')\n",
      "Poliwrath : ('Vatten/Kamp', '62')\n",
      "Abra : ('Psykisk', '63')\n",
      "Kadabra : ('Psykisk', '64')\n",
      "Alakazam : ('Psykisk', '65')\n",
      "Machop : ('Kamp', '66')\n",
      "Machoke : ('Kamp', '67')\n",
      "Machamp : ('Kamp', '68')\n",
      "Bellsprout : ('GrÃ¤s/Gift', '69')\n",
      "Weepinbell : ('GrÃ¤s/Gift', '70')\n",
      "Victreebel : ('GrÃ¤s/Gift', '71')\n",
      "Tentacool : ('Vatten/Gift', '72')\n",
      "Tentacruel : ('Vatten/Gift', '73')\n",
      "Geodude : ('Sten/Mark', '74')\n",
      "Graveler : ('Sten/Mark', '75')\n",
      "Golem : ('Sten/Mark', '76')\n",
      "Ponyta : ('Eld', '77')\n",
      "Rapidash : ('Eld', '78')\n",
      "Slowpoke : ('Vatten/Psykisk', '79')\n",
      "Slowbro : ('Vatten/Psykisk', '80')\n",
      "Magnemite : ('Elektrisk/StÃ¥l', '81')\n",
      "Magneton : ('Elektrisk/StÃ¥l', '82')\n",
      "Farfetch'd : ('Normal/Flygande', '83')\n",
      "Doduo : ('Normal/Flygande', '84')\n",
      "Dodrio : ('Normal/Flygande', '85')\n",
      "Seel : ('Vatten', '86')\n",
      "Dewgong : ('Vatten/Is', '87')\n",
      "Grimer : ('Gift', '88')\n",
      "Muk : ('Gift', '89')\n",
      "Shellder : ('Vatten', '90')\n",
      "Cloyster : ('Vatten/Is', '91')\n",
      "Gastly : ('SpÃ¶ke/Gift', '92')\n",
      "Haunter : ('SpÃ¶ke/Gift', '93')\n",
      "Gengar : ('SpÃ¶ke/Gift', '94')\n",
      "Onix : ('Sten/Mark', '95')\n",
      "Drowzee : ('Psykisk', '96')\n",
      "Hypno : ('Psykisk', '97')\n",
      "Krabby : ('Vatten', '98')\n",
      "Kingler : ('Vatten', '99')\n",
      "Voltorb : ('Elektrisk', '100')\n",
      "Electrode : ('Elektrisk', '101')\n",
      "Exeggcute : ('GrÃ¤s/Psykisk', '102')\n",
      "Exeggutor : ('GrÃ¤s/Psykisk', '103')\n",
      "Cubone : ('Mark', '104')\n",
      "Marowak : ('Mark', '105')\n",
      "Hitmonlee : ('Kamp', '106')\n",
      "Hitmonchan : ('Kamp', '107')\n",
      "Lickitung : ('Normal', '108')\n",
      "Koffing : ('Gift', '109')\n",
      "Weezing : ('Gift', '110')\n",
      "Rhyhorn : ('Mark/Sten', '111')\n",
      "Rhydon : ('Mark/Sten', '112')\n",
      "Chansey : ('Normal', '113')\n",
      "Tangela : ('GrÃ¤s', '114')\n",
      "Kangaskhan : ('Normal', '115')\n",
      "Horsea : ('Vatten', '116')\n",
      "Seadra : ('Vatten', '117')\n",
      "Goldeen : ('Vatten', '118')\n",
      "Seaking : ('Vatten', '119')\n",
      "Staryu : ('Vatten', '120')\n",
      "Starmie : ('Vatten/Psykisk', '121')\n",
      "Mr. : ('Mime', '122')\n",
      "Scyther : ('Insekt/Flygande', '123')\n",
      "Jynx : ('Is/Psykisk', '124')\n",
      "Electabuzz : ('Elektrisk', '125')\n",
      "Magmar : ('Eld', '126')\n",
      "Pinsir : ('Insekt', '127')\n",
      "Tauros : ('Normal', '128')\n",
      "Magikarp : ('Vatten', '129')\n",
      "Gyarados : ('Vatten/Flygande', '130')\n",
      "Lapras : ('Vatten/Is', '131')\n",
      "Ditto : ('Normal', '132')\n",
      "Eevee : ('Normal', '133')\n",
      "Vaporeon : ('Vatten', '134')\n",
      "Jolteon : ('Elektrisk', '135')\n",
      "Flareon : ('Eld', '136')\n",
      "Porygon : ('Normal', '137')\n",
      "Omanyte : ('Sten/Vatten', '138')\n",
      "Omastar : ('Sten/Vatten', '139')\n",
      "Kabuto : ('Sten/Vatten', '140')\n",
      "Kabutops : ('Sten/Vatten', '141')\n",
      "Aerodactyl : ('Sten/Flygande', '142')\n",
      "Snorlax : ('Normal', '143')\n",
      "Articuno : ('Is/Flygande', '144')\n",
      "Zapdos : ('Elektrisk/Flygande', '145')\n",
      "Moltres : ('Eld/Flygande', '146')\n",
      "Dratini : ('Drake', '147')\n",
      "Dragonair : ('Drake', '148')\n",
      "Dragonite : ('Drake/Flygande', '149')\n",
      "Mewtwo : ('Psykisk', '150')\n"
     ]
    }
   ],
   "source": [
    "PokemonFile = open(\"pokemon.txt\", \"r\")\n",
    "PokemonDictionary = {}\n",
    "\n",
    "for PokemonLine in PokemonFile:\n",
    "    PokemonSplit = PokemonLine.split()\n",
    "    PokemonIndex = PokemonSplit[0]\n",
    "    Pokemon = PokemonSplit[1]\n",
    "    PokemonType = PokemonSplit[2]\n",
    "    PokemonDictionary[Pokemon] = PokemonType, PokemonIndex\n",
    "\n",
    "for PokemonKey in PokemonDictionary.keys():\n",
    "    print(f\"{PokemonKey} : {PokemonDictionary[PokemonKey]}\")\n",
    "PokemonFile.close()\n"
   ]
  },
  {
   "cell_type": "markdown",
   "metadata": {},
   "source": [
    "## 4. Morse Code (**)"
   ]
  },
  {
   "cell_type": "code",
   "execution_count": 16,
   "metadata": {},
   "outputs": [
    {
     "name": "stdout",
     "output_type": "stream",
     "text": [
      ".------.-.------.\n"
     ]
    }
   ],
   "source": [
    "MorseFile = open(\"morse.txt\", \"r\")\n",
    "MorseDictionary = {}\n",
    "\n",
    "for MorseLine in MorseFile:\n",
    "    MorseEntry = MorseLine.split()\n",
    "    MorseDictionary[MorseEntry[0][0]] = MorseEntry[-1]\n",
    "\n",
    "def MorseTranslator(GivenString):\n",
    "    MorseString = ''\n",
    "    StringList = list(GivenString.upper())\n",
    "    for Letter in StringList:\n",
    "        for MorseKey in MorseDictionary.keys():\n",
    "            if Letter == MorseKey:\n",
    "                MorseString += MorseDictionary[Letter]\n",
    "                break\n",
    "    return MorseString\n",
    "               \n",
    "print(MorseTranslator(\"POKEMON\"))\n",
    "\n",
    "MorseFile.close()"
   ]
  }
 ],
 "metadata": {
  "kernelspec": {
   "display_name": "Python 3.9.13 64-bit",
   "language": "python",
   "name": "python3"
  },
  "language_info": {
   "codemirror_mode": {
    "name": "ipython",
    "version": 3
   },
   "file_extension": ".py",
   "mimetype": "text/x-python",
   "name": "python",
   "nbconvert_exporter": "python",
   "pygments_lexer": "ipython3",
   "version": "3.9.13"
  },
  "orig_nbformat": 4,
  "vscode": {
   "interpreter": {
    "hash": "591918dbf680b2bdff6f4384b96f2237519b8ab6acfadf1c6cb7dfdafe56e2cb"
   }
  }
 },
 "nbformat": 4,
 "nbformat_minor": 2
}
