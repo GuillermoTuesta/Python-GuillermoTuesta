{
 "cells": [
  {
   "cell_type": "markdown",
   "metadata": {},
   "source": [
    "## 1. Check sign (*)"
   ]
  },
  {
   "cell_type": "code",
   "execution_count": 93,
   "metadata": {},
   "outputs": [
    {
     "name": "stdout",
     "output_type": "stream",
     "text": [
      "The value is positive.\n",
      "None\n"
     ]
    }
   ],
   "source": [
    "def ValueCheck(UserInput):\n",
    "    try: \n",
    "        UserInput = float(UserInput)\n",
    "    except:\n",
    "        print(\"Invalid Input.\")\n",
    "        return None\n",
    "    else: \n",
    "        UserInput = float(UserInput)\n",
    "\n",
    "    if UserInput == 0:\n",
    "        print(\"The value is zero.\")\n",
    "    elif UserInput > 0:\n",
    "        print(\"The value is positive.\")\n",
    "    else:\n",
    "        print(\"The value is negative.\")\n",
    "    \n",
    "InputValue = input(\"Enter a value to check.\")\n",
    "print(f\"{ValueCheck(InputValue)}\")"
   ]
  },
  {
   "cell_type": "markdown",
   "metadata": {},
   "source": [
    "## 2.  Smallest (*)"
   ]
  },
  {
   "cell_type": "code",
   "execution_count": 81,
   "metadata": {},
   "outputs": [
    {
     "name": "stdout",
     "output_type": "stream",
     "text": [
      "2.0\n"
     ]
    }
   ],
   "source": [
    "def SmallestInt(a, b):\n",
    "    try:\n",
    "        a = float(a)\n",
    "        b = float(b)\n",
    "    except:\n",
    "        print(\"Invalid input.\")\n",
    "        return None\n",
    "    else:\n",
    "        a = float(a)\n",
    "        b = float(b)\n",
    "\n",
    "    if a == b:\n",
    "        return a\n",
    "    return a if a < b else b\n",
    "\n",
    "print(SmallestInt(input(\"Input first value: \"), input(\"Input second value: \"))) "
   ]
  },
  {
   "cell_type": "markdown",
   "metadata": {},
   "source": [
    "## 3. Right Angle (*)"
   ]
  },
  {
   "cell_type": "code",
   "execution_count": 86,
   "metadata": {},
   "outputs": [
    {
     "name": "stdout",
     "output_type": "stream",
     "text": [
      "Invalid inputs.\n"
     ]
    }
   ],
   "source": [
    "def RightAngleCheck(angle1, angle2, angle3):\n",
    "    try:\n",
    "        angle1 = float(angle1)\n",
    "        angle2 = float(angle2)\n",
    "        angle3 = float(angle3)\n",
    "    except:\n",
    "        print(\"Invalid inputs.\")\n",
    "        return None\n",
    "    else: \n",
    "        angle1 = float(angle1)\n",
    "        angle2 = float(angle2)\n",
    "        angle3 = float(angle3)\n",
    "\n",
    "    angles = [angle1, angle2, angle3]\n",
    "    AngleSum = 0\n",
    "\n",
    "    for angle in angles: # for loop to validate all angle inputs.\n",
    "        AngleSum += angle\n",
    "        if (AngleSum != 180 and angles.index(angle) == 2) or angle <= 0: # simply checking that an angle isn't <= 0 is enough to eliminate all other invalid combinations (180, -180, etc)\n",
    "            print(\"RightAngleCheck: Invalid values.\")\n",
    "            return False\n",
    "\n",
    "    for angle in angles: # then run simple loop to check if any angle is 90.\n",
    "        if angle == 90:\n",
    "            return True\n",
    "\n",
    "    return False # if all angles were valid but none of them were 90, the code reaches this part and simply returns False without error.\n",
    "\n",
    "RightAngleCheck(input(\"Input first angle: \"), input(\"Input second angle: \"), input(\"Input third angle: \"))\n"
   ]
  },
  {
   "cell_type": "markdown",
   "metadata": {},
   "source": [
    "## 4. Medicine (*)"
   ]
  },
  {
   "cell_type": "code",
   "execution_count": 83,
   "metadata": {},
   "outputs": [
    {
     "name": "stdout",
     "output_type": "stream",
     "text": [
      "Invalid inputs.\n",
      "None\n"
     ]
    }
   ],
   "source": [
    "def RecommendedAmount(age, weight):\n",
    "    try:\n",
    "        age = int(age)\n",
    "        weight = int(weight)\n",
    "    except:\n",
    "        print(\"Invalid inputs.\")\n",
    "        return None\n",
    "    else: \n",
    "        age = int(age)\n",
    "        weight = int(weight)\n",
    "\n",
    "    if age < 3 or weight < 15 or (3 <= age <= 12 and weight > 40):\n",
    "        print(\"Consult a doctor.\")\n",
    "\n",
    "\n",
    "    if 3 <= age <= 12:\n",
    "        if 26 <= weight <= 40:\n",
    "            print(\"1/2 - 1 pills.\")\n",
    "        if 15 <= weight <= 25:\n",
    "            print(\"1/2 pills.\")\n",
    "    \n",
    "    if age > 12 and weight > 40:\n",
    "        print(\"1-2 pills.\")\n",
    "\n",
    "print(RecommendedAmount(input(\"Input your age: \"), input(\"Input your weight(kg): \")))"
   ]
  },
  {
   "cell_type": "markdown",
   "metadata": {},
   "source": [
    "## 5. Divisible (*)"
   ]
  },
  {
   "cell_type": "code",
   "execution_count": 103,
   "metadata": {},
   "outputs": [
    {
     "name": "stdout",
     "output_type": "stream",
     "text": [
      "DivisibilityChecks: Invalid input!\n"
     ]
    }
   ],
   "source": [
    "def DivisibilityChecks(num):\n",
    "    try:\n",
    "        num = int(num)\n",
    "    except:\n",
    "        print(\"DivisibilityChecks: Invalid input!\")\n",
    "        return None\n",
    "    else:\n",
    "        num = int(num)\n",
    "\n",
    "    print(f\"{num} is odd.\") if num % 2 == 1 else print(f\"{num} is even.\")\n",
    "    print(f\"{num} is divisible by 5.\") if num % 5 == 0 else print(f\"{num} is not divisible by 5.\")\n",
    "    print(f\"{num} is both odd and divisible by 5.\") if (num % 5 == 0 and num % 2 == 1) else print(f\"{num} is either even or not divisible by 5.\")\n",
    "\n",
    "\n",
    "DivisibilityChecks(input(\"Enter number to run through arbitrary divisibility checks.\"))"
   ]
  },
  {
   "cell_type": "markdown",
   "metadata": {},
   "source": [
    "## 6. Luggage Size (*)"
   ]
  },
  {
   "cell_type": "code",
   "execution_count": 109,
   "metadata": {},
   "outputs": [
    {
     "name": "stdout",
     "output_type": "stream",
     "text": [
      "Welcome aboard.\n"
     ]
    }
   ],
   "source": [
    "def LuggageSize(weight, length, width, height):\n",
    "    try:\n",
    "        weight = float(weight)\n",
    "        length = float(length)\n",
    "        width = float(width)\n",
    "        height = float(height)\n",
    "    except:\n",
    "        print(\"Invalid Input!\")\n",
    "        return None\n",
    "    else: \n",
    "        weight = float(weight)\n",
    "        length = float(length)\n",
    "        width = float(width)\n",
    "        height = float(height)\n",
    "\n",
    "    if weight >= 8 or length > 55 or width > 40 or height > 23:\n",
    "        print(\"Go away.\")\n",
    "        return None\n",
    "    print(\"Welcome aboard.\")\n",
    "\n",
    "LuggageSize(input(\"Enter weigth(kg): \"), input(\"Enter length(cm): \"), input(\"Enter width(cm):\"), input(\"Enter height(cm): \"))\n"
   ]
  }
 ],
 "metadata": {
  "kernelspec": {
   "display_name": "Python 3.9.13 64-bit",
   "language": "python",
   "name": "python3"
  },
  "language_info": {
   "codemirror_mode": {
    "name": "ipython",
    "version": 3
   },
   "file_extension": ".py",
   "mimetype": "text/x-python",
   "name": "python",
   "nbconvert_exporter": "python",
   "pygments_lexer": "ipython3",
   "version": "3.9.13"
  },
  "orig_nbformat": 4,
  "vscode": {
   "interpreter": {
    "hash": "591918dbf680b2bdff6f4384b96f2237519b8ab6acfadf1c6cb7dfdafe56e2cb"
   }
  }
 },
 "nbformat": 4,
 "nbformat_minor": 2
}
