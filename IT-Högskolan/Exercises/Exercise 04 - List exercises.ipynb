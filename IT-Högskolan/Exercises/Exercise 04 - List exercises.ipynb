{
 "cells": [
  {
   "cell_type": "markdown",
   "metadata": {},
   "source": [
    "## 1. Dice Rolls (*)"
   ]
  },
  {
   "cell_type": "code",
   "execution_count": 2,
   "metadata": {},
   "outputs": [
    {
     "name": "stdout",
     "output_type": "stream",
     "text": [
      "Ascending order: [1, 1, 2, 3, 4, 4, 4, 4, 6, 6] \n",
      "Descending order: [6, 6, 4, 4, 4, 4, 3, 2, 1, 1]\n",
      "Biggest number: 1\n",
      "Largest number: 6\n"
     ]
    }
   ],
   "source": [
    "from random import randint\n",
    "\n",
    "def DiceStats():\n",
    "    DiceNumbers = [randint(1,6) for x in range(10)]\n",
    "    print(\"Dice stats:\")\n",
    "    print(f\"Ascending order: {sorted(DiceNumbers)} \")\n",
    "    print(f\"Descending order: {sorted(DiceNumbers, reverse=True)}\")\n",
    "    print(f\"Biggest number: {sorted(DiceNumbers)[0]}\")\n",
    "    print(f\"Largest number: {sorted(DiceNumbers, reverse=True)[0]}\")\n",
    "\n",
    "DiceStats()"
   ]
  },
  {
   "cell_type": "markdown",
   "metadata": {},
   "source": [
    "## 2. Food Menu (*)"
   ]
  },
  {
   "cell_type": "code",
   "execution_count": 4,
   "metadata": {},
   "outputs": [
    {
     "name": "stdout",
     "output_type": "stream",
     "text": [
      "[('Måndag', 'Vegetarisk Lasagne'), ('Tisdag', 'Spaghetti'), ('Onsdag', 'Fisk'), ('Torsdag', 'Grönsakssoppa'), ('Fredag', 'Pannkakor')]\n"
     ]
    }
   ],
   "source": [
    "FoodMenu = [\"Vegetarisk Lasagne\", \"Spaghetti\", \"Fisk\", \"Grönsakssoppa\", \"Pannkakor\"]\n",
    "Weekdays = [\"Måndag\", \"Tisdag\", \"Onsdag\", \"Torsdag\", \"Fredag\", \"Lördag\", \"Söndag\"]\n",
    "\n",
    "print(list(zip(Weekdays, FoodMenu)))"
   ]
  },
  {
   "cell_type": "markdown",
   "metadata": {},
   "source": [
    "## 3. Squares (*)"
   ]
  },
  {
   "cell_type": "code",
   "execution_count": 2,
   "metadata": {},
   "outputs": [
    {
     "ename": "ModuleNotFoundError",
     "evalue": "No module named 'matplotlib'",
     "output_type": "error",
     "traceback": [
      "\u001b[1;31m---------------------------------------------------------------------------\u001b[0m",
      "\u001b[1;31mModuleNotFoundError\u001b[0m                       Traceback (most recent call last)",
      "\u001b[1;32mc:\\OD\\OneDrive - onmidroc\\Documents\\Github\\Python-GuillermoTuesta\\IT-Högskolan\\Exercises\\Exercise 04 - List exercises.ipynb Cell 6\u001b[0m in \u001b[0;36m<cell line: 1>\u001b[1;34m()\u001b[0m\n\u001b[1;32m----> <a href='vscode-notebook-cell:/c%3A/OD/OneDrive%20-%20onmidroc/Documents/Github/Python-GuillermoTuesta/IT-H%C3%B6gskolan/Exercises/Exercise%2004%20-%20List%20exercises.ipynb#W5sZmlsZQ%3D%3D?line=0'>1</a>\u001b[0m \u001b[39mimport\u001b[39;00m \u001b[39mmatplotlib\u001b[39;00m\u001b[39m.\u001b[39;00m\u001b[39mpyplot\u001b[39;00m \u001b[39mas\u001b[39;00m \u001b[39mplt\u001b[39;00m\n\u001b[0;32m      <a href='vscode-notebook-cell:/c%3A/OD/OneDrive%20-%20onmidroc/Documents/Github/Python-GuillermoTuesta/IT-H%C3%B6gskolan/Exercises/Exercise%2004%20-%20List%20exercises.ipynb#W5sZmlsZQ%3D%3D?line=2'>3</a>\u001b[0m SquareList \u001b[39m=\u001b[39m [x\u001b[39m*\u001b[39m\u001b[39m*\u001b[39m\u001b[39m2\u001b[39m \u001b[39mfor\u001b[39;00m x \u001b[39min\u001b[39;00m \u001b[39mrange\u001b[39m(\u001b[39m-\u001b[39m\u001b[39m10\u001b[39m, \u001b[39m11\u001b[39m)]\n\u001b[0;32m      <a href='vscode-notebook-cell:/c%3A/OD/OneDrive%20-%20onmidroc/Documents/Github/Python-GuillermoTuesta/IT-H%C3%B6gskolan/Exercises/Exercise%2004%20-%20List%20exercises.ipynb#W5sZmlsZQ%3D%3D?line=4'>5</a>\u001b[0m plt\u001b[39m.\u001b[39mplot(SquareList)\n",
      "\u001b[1;31mModuleNotFoundError\u001b[0m: No module named 'matplotlib'"
     ]
    }
   ],
   "source": [
    "import matplotlib.pyplot as plt\n",
    "\n",
    "SquareList = [x**2 for x in range(-10, 11)]\n",
    "\n",
    "plt.plot(SquareList)"
   ]
  },
  {
   "cell_type": "code",
   "execution_count": null,
   "metadata": {},
   "outputs": [],
   "source": []
  }
 ],
 "metadata": {
  "kernelspec": {
   "display_name": "Python 3.9.13 64-bit",
   "language": "python",
   "name": "python3"
  },
  "language_info": {
   "codemirror_mode": {
    "name": "ipython",
    "version": 3
   },
   "file_extension": ".py",
   "mimetype": "text/x-python",
   "name": "python",
   "nbconvert_exporter": "python",
   "pygments_lexer": "ipython3",
   "version": "3.9.13"
  },
  "orig_nbformat": 4,
  "vscode": {
   "interpreter": {
    "hash": "591918dbf680b2bdff6f4384b96f2237519b8ab6acfadf1c6cb7dfdafe56e2cb"
   }
  }
 },
 "nbformat": 4,
 "nbformat_minor": 2
}
