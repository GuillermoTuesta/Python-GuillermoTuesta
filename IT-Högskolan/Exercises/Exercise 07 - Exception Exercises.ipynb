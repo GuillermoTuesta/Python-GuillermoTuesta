{
 "cells": [
  {
   "cell_type": "markdown",
   "metadata": {},
   "source": [
    "## 1. Find Errors(*)"
   ]
  },
  {
   "cell_type": "code",
   "execution_count": 6,
   "metadata": {},
   "outputs": [
    {
     "data": {
      "text/plain": [
       "0.7071067811865476"
      ]
     },
     "execution_count": 6,
     "metadata": {},
     "output_type": "execute_result"
    }
   ],
   "source": [
    "''' \n",
    "impor numpy as np\n",
    "\n",
    "def distance(x,y)\n",
    "    reurn np.sqrt(x+y)\n",
    "\n",
    "print(distance([0.5, 0.5])) \n",
    "\n",
    "''' \n",
    "# ^Code to correct. This function is intended to calculate the distance between a point x, y and the origin of a cartesian plane 0, 0.\n",
    "# The code has syntax errors, and the formula used is wrong.\n",
    "\n",
    "def distance(x,y):\n",
    "    return (x**2 + y**2)**(1/2)\n",
    "\n",
    "distance(0.5 , 0.5)\n"
   ]
  },
  {
   "cell_type": "markdown",
   "metadata": {},
   "source": [
    "## 2. Find Errors(*)"
   ]
  },
  {
   "cell_type": "code",
   "execution_count": 13,
   "metadata": {},
   "outputs": [
    {
     "name": "stdout",
     "output_type": "stream",
     "text": [
      "231 is not four-digit\n",
      "3124 is four-digit\n",
      "-4124 is four-digit\n",
      "-1000 is four-digit\n",
      "-999 is not four-digit\n",
      "1001 is four-digit\n",
      "10000 is four-digit\n",
      "-10000 is four-digit\n",
      "999 is not four-digit\n"
     ]
    }
   ],
   "source": [
    "'''\n",
    "def is_fourdigit(number):\n",
    "    if number//1000 < 10\n",
    "        return true\n",
    "    else \n",
    "        return false\n",
    "'''\n",
    "\n",
    "# ^Code to correct. Intended to return True if given number is a four-digit number.\n",
    "# It has syntax errors, and a logical error.\n",
    "# The 'test program' was part of the given code and is not to be corrected.\n",
    "\n",
    "\n",
    "def is_fourdigit(Number):\n",
    "    if Number//1000 > 0 or Number//1000 < -1 or Number == -1000: # '//' has peculiar behaviour for negative numbers, which necesitates the last few conditions.\n",
    "        return True\n",
    "    return False\n",
    "\n",
    "\n",
    "# test program\n",
    "test_numbers = [231, 3124, -4124, -1000,-999, 1001, 10000, -10000, 999]\n",
    "\n",
    "for number in test_numbers:\n",
    "    if is_fourdigit(number):\n",
    "        print(f\"{number} is four-digit\")\n",
    "    else:\n",
    "        print(f\"{number} is not four-digit\")"
   ]
  },
  {
   "cell_type": "markdown",
   "metadata": {},
   "source": [
    "## 3. Tram (*)"
   ]
  },
  {
   "cell_type": "code",
   "execution_count": 18,
   "metadata": {},
   "outputs": [
    {
     "name": "stdout",
     "output_type": "stream",
     "text": [
      "This program will determine whether you should buy single tickets or get a monthly card.\n",
      "You have to input a value above 0 for how many times you'll take the tram.\n",
      "Buying single tickets will cost you $2000 in total. A monthly card with their cost of 2000 will be cheaper for you!\n"
     ]
    }
   ],
   "source": [
    "print(\"This program will determine whether you should buy single tickets or get a monthly card.\")\n",
    "while True:\n",
    "    Usage = input(\"How many times you will take the tram in the next 30 days? \")\n",
    "\n",
    "    try:\n",
    "        Usage = int(Usage)\n",
    "    except:\n",
    "        print(\"Input was a non-integer. Please only input integers.\")\n",
    "        continue\n",
    "    else:\n",
    "        Usage = int(Usage)\n",
    "\n",
    "    if Usage <= 0:\n",
    "        print(\"You have to input a value above 0 for how many times you'll take the tram.\")\n",
    "        continue\n",
    "\n",
    "    TicketCost = input(\"How much does a single ticket cost? \")\n",
    "\n",
    "    try:\n",
    "        TicketCost = int(TicketCost)\n",
    "    except:\n",
    "        print(\"Input was a non-integer. Please only input integers.\")\n",
    "        continue\n",
    "    else:\n",
    "        TicketCost = int(TicketCost)\n",
    "\n",
    "    if TicketCost <= 0:\n",
    "        print(\"You have to input a value above 0 for the ticket cost.\")\n",
    "        continue    \n",
    "\n",
    "    MonthlyCard = input(\"How much does a monthly card cost? \")\n",
    "\n",
    "    try:\n",
    "        MonthlyCard = int(MonthlyCard)\n",
    "    except:\n",
    "        print(\"Input was a non-integer. Please only input integers.\")\n",
    "        continue\n",
    "    else:\n",
    "        MonthlyCard = int(MonthlyCard)\n",
    "\n",
    "    if MonthlyCard <= 0:\n",
    "        print(\"You have to input a value above 0 for the monthly card cost.\")\n",
    "        continue  \n",
    "\n",
    "    if Usage * TicketCost >= MonthlyCard:\n",
    "        print(f\"Buying single tickets will cost you ${Usage * TicketCost} in total. A monthly card with their cost of {MonthlyCard} will be cheaper for you!\")\n",
    "    else:\n",
    "        print(f\"Buying single tickets will cost you ${Usage * TicketCost} in total, whereas a monthly card will cost {MonthlyCard}. Stick to single tickets!\")\n",
    "\n",
    "    break\n",
    "\n"
   ]
  }
 ],
 "metadata": {
  "kernelspec": {
   "display_name": "Python 3.9.13 64-bit",
   "language": "python",
   "name": "python3"
  },
  "language_info": {
   "codemirror_mode": {
    "name": "ipython",
    "version": 3
   },
   "file_extension": ".py",
   "mimetype": "text/x-python",
   "name": "python",
   "nbconvert_exporter": "python",
   "pygments_lexer": "ipython3",
   "version": "3.9.13"
  },
  "orig_nbformat": 4,
  "vscode": {
   "interpreter": {
    "hash": "591918dbf680b2bdff6f4384b96f2237519b8ab6acfadf1c6cb7dfdafe56e2cb"
   }
  }
 },
 "nbformat": 4,
 "nbformat_minor": 2
}
