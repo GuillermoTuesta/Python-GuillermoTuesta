{
 "cells": [
  {
   "cell_type": "markdown",
   "metadata": {},
   "source": [
    "## 1. Counting Letters (*)"
   ]
  },
  {
   "cell_type": "code",
   "execution_count": 3,
   "metadata": {},
   "outputs": [
    {
     "data": {
      "text/plain": [
       "{'Length': '17', 'Uppercases': '0', 'Lowercases': '17'}"
      ]
     },
     "execution_count": 3,
     "metadata": {},
     "output_type": "execute_result"
    }
   ],
   "source": [
    "def LetterCounter(GivenString):\n",
    "    return {\n",
    "        \"Length\": f\"{len(GivenString)}\",\n",
    "        \"Uppercases\": f\"{len([Letter for Letter in GivenString if Letter.isupper()])}\",\n",
    "        \"Lowercases\": f\"{len([Letter for Letter in GivenString if Letter.islower()])}\"\n",
    "    }\n",
    "\n",
    "LetterCounter(input(\"Input a string to check: \"))"
   ]
  },
  {
   "cell_type": "markdown",
   "metadata": {},
   "source": [
    "## 2. Counting Words (*)"
   ]
  },
  {
   "cell_type": "code",
   "execution_count": 8,
   "metadata": {},
   "outputs": [
    {
     "data": {
      "text/plain": [
       "22"
      ]
     },
     "execution_count": 8,
     "metadata": {},
     "output_type": "execute_result"
    }
   ],
   "source": [
    "def WordCounter(GivenString):\n",
    "    WordCount = 0\n",
    "    for Letter in GivenString:\n",
    "        if Letter == ' ':\n",
    "            WordCount += 1\n",
    "    return WordCount + 1\n",
    "\n",
    "WordCounter(\"A picture says more than a thousand words, a matematical formula says more than a thousand pictures.\")\n"
   ]
  },
  {
   "cell_type": "markdown",
   "metadata": {},
   "source": [
    "## 3. Palindrome (*)"
   ]
  },
  {
   "cell_type": "code",
   "execution_count": 15,
   "metadata": {},
   "outputs": [
    {
     "data": {
      "text/plain": [
       "True"
      ]
     },
     "execution_count": 15,
     "metadata": {},
     "output_type": "execute_result"
    }
   ],
   "source": [
    "def PalindromeCheck(GivenString):\n",
    "    LowerCased = GivenString.lower()\n",
    "    if LowerCased == LowerCased[::-1]:\n",
    "        return True\n",
    "    return False\n",
    "\n",
    "PalindromeCheck(\"prorp\")"
   ]
  },
  {
   "cell_type": "markdown",
   "metadata": {},
   "source": [
    "## 4. Vowels (**)"
   ]
  },
  {
   "cell_type": "code",
   "execution_count": 23,
   "metadata": {},
   "outputs": [
    {
     "data": {
      "text/plain": [
       "20"
      ]
     },
     "execution_count": 23,
     "metadata": {},
     "output_type": "execute_result"
    }
   ],
   "source": [
    "def VowelCounter(GivenString):\n",
    "    Vowels = 'aeiouAEIOU'\n",
    "    VowelCount = 0\n",
    "\n",
    "    for Letter in GivenString:\n",
    "        if Letter in Vowels:\n",
    "            VowelCount += 1\n",
    "    \n",
    "    return VowelCount\n",
    "\n",
    "VowelCounter(\"Pure mathematics is, in its way, the poetry of logical ideas\")\n"
   ]
  },
  {
   "cell_type": "markdown",
   "metadata": {},
   "source": [
    "## 5. Encryption (**)"
   ]
  },
  {
   "cell_type": "code",
   "execution_count": 35,
   "metadata": {},
   "outputs": [
    {
     "name": "stdout",
     "output_type": "stream",
     "text": [
      "uftu\n",
      "test\n"
     ]
    }
   ],
   "source": [
    "def Encryptor(GivenString, Lock):\n",
    "    Alphabet = \"abcdefghijklmnopqrstuvwxyzåäö\"\n",
    "    ''' MASTER CRYPT. CAN ENCRYPT AND DECRYPT.\n",
    "        ONLY DOES LOWERCASE. '''\n",
    "\n",
    "    Lowercased = GivenString.lower()\n",
    "\n",
    "    EncryptedMessage = ''\n",
    "    \n",
    "    if Lock:\n",
    "        for Letter in Lowercased:\n",
    "            EncryptedMessage += f\"{Alphabet[Alphabet.index(Letter)+1]}\"\n",
    "    \n",
    "    if not Lock:\n",
    "        for Letter in Lowercased:\n",
    "            EncryptedMessage += Alphabet[Alphabet.index(Letter)-1]\n",
    "            \n",
    "\n",
    "    return EncryptedMessage\n",
    "\n",
    "print(Encryptor(\"Test\", True))\n",
    "\n",
    "print(Encryptor(\"uftu\", False))"
   ]
  }
 ],
 "metadata": {
  "kernelspec": {
   "display_name": "Python 3.9.13 64-bit",
   "language": "python",
   "name": "python3"
  },
  "language_info": {
   "codemirror_mode": {
    "name": "ipython",
    "version": 3
   },
   "file_extension": ".py",
   "mimetype": "text/x-python",
   "name": "python",
   "nbconvert_exporter": "python",
   "pygments_lexer": "ipython3",
   "version": "3.9.13"
  },
  "orig_nbformat": 4,
  "vscode": {
   "interpreter": {
    "hash": "591918dbf680b2bdff6f4384b96f2237519b8ab6acfadf1c6cb7dfdafe56e2cb"
   }
  }
 },
 "nbformat": 4,
 "nbformat_minor": 2
}
