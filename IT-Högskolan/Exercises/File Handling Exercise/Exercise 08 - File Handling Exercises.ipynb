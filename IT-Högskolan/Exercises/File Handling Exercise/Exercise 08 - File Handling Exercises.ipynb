{
 "cells": [
  {
   "cell_type": "markdown",
   "metadata": {},
   "source": [
    "## 1. Dice Rolls (*)"
   ]
  },
  {
   "cell_type": "code",
   "execution_count": 28,
   "metadata": {},
   "outputs": [],
   "source": [
    "from random import randint\n",
    "\n",
    "DiceTextFile = open(\"DiceRolls.txt\", \"w\")\n",
    "\n",
    "def DiceRoller(Throws):\n",
    "    return [randint(1,6) for x in range(Throws)]\n",
    "\n",
    "Throws = 20\n",
    "DiceList = DiceRoller(Throws)\n",
    "\n",
    "DiceTextFile.write(f\"Unsorted dice rolls: {chr(10)}\")\n",
    "for Dice in DiceList:\n",
    "    DiceTextFile.write(f\"{Dice} {chr(10)}\")\n",
    "\n",
    "DiceTextFile.write(f\"Sorted Dice List: {chr(10)}\")\n",
    "for Dice in sorted(DiceList, reverse=True):\n",
    "    DiceTextFile.write(f\"{Dice} {chr(10)}\")\n",
    "\n",
    "FourCount = [Dice for Dice in DiceList if Dice == 4]\n",
    "\n",
    "DiceTextFile.write(f\"{Throws} throws yielded {len(FourCount)} four(s).\")\n",
    "\n",
    "DiceTextFile.close()\n",
    "\n"
   ]
  },
  {
   "cell_type": "markdown",
   "metadata": {},
   "source": [
    "## 2. Test Results(*)"
   ]
  },
  {
   "cell_type": "code",
   "execution_count": 84,
   "metadata": {},
   "outputs": [],
   "source": [
    "ResultFile = open(\"TestResults.txt\", \"r\")\n",
    "\n",
    "ResultDictionary = {}\n",
    "\n",
    "\n",
    "for Result in ResultFile:\n",
    "    Result = Result.split()\n",
    "    ResultDictionary[f\"{' '.join(Result[:-1])}\"] = Result[-1]\n",
    "\n",
    "ResultDictionary = dict(sorted(ResultDictionary.items())) #Sorts the dictionary by keys.\n",
    "\n",
    "ResultFile = open(\"TestResults.txt\", \"a\")\n",
    "\n",
    "for Result in ResultDictionary:\n",
    "    ResultFile.write(f\" {chr(10)} {Result} : {ResultDictionary[Result]} {chr(10)}\")\n",
    "\n",
    "ResultFile.close()"
   ]
  }
 ],
 "metadata": {
  "kernelspec": {
   "display_name": "Python 3.9.13 64-bit",
   "language": "python",
   "name": "python3"
  },
  "language_info": {
   "codemirror_mode": {
    "name": "ipython",
    "version": 3
   },
   "file_extension": ".py",
   "mimetype": "text/x-python",
   "name": "python",
   "nbconvert_exporter": "python",
   "pygments_lexer": "ipython3",
   "version": "3.9.13"
  },
  "orig_nbformat": 4,
  "vscode": {
   "interpreter": {
    "hash": "591918dbf680b2bdff6f4384b96f2237519b8ab6acfadf1c6cb7dfdafe56e2cb"
   }
  }
 },
 "nbformat": 4,
 "nbformat_minor": 2
}
