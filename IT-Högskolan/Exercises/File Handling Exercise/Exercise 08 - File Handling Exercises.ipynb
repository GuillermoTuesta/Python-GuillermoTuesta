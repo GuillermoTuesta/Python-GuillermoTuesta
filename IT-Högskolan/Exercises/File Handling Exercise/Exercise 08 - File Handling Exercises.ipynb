{
 "cells": [
  {
   "cell_type": "markdown",
   "metadata": {},
   "source": [
    "## 1. Dice Rolls (*)"
   ]
  },
  {
   "cell_type": "code",
   "execution_count": 28,
   "metadata": {},
   "outputs": [],
   "source": [
    "from random import randint\n",
    "\n",
    "DiceTextFile = open(\"DiceRolls.txt\", \"w\")\n",
    "\n",
    "def DiceRoller(Throws):\n",
    "    return [randint(1,6) for x in range(Throws)]\n",
    "\n",
    "Throws = 20\n",
    "DiceList = DiceRoller(Throws)\n",
    "\n",
    "DiceTextFile.write(f\"Unsorted dice rolls: {chr(10)}\")\n",
    "for Dice in DiceList:\n",
    "    DiceTextFile.write(f\"{Dice} {chr(10)}\")\n",
    "\n",
    "DiceTextFile.write(f\"Sorted Dice List: {chr(10)}\")\n",
    "for Dice in sorted(DiceList, reverse=True):\n",
    "    DiceTextFile.write(f\"{Dice} {chr(10)}\")\n",
    "\n",
    "FourCount = [Dice for Dice in DiceList if Dice == 4]\n",
    "\n",
    "DiceTextFile.write(f\"{Throws} throws yielded {len(FourCount)} four(s).\")\n",
    "\n",
    "DiceTextFile.close()\n",
    "\n"
   ]
  },
  {
   "cell_type": "markdown",
   "metadata": {},
   "source": [
    "## 2. Test Results(*) (Unfinished)"
   ]
  },
  {
   "cell_type": "code",
   "execution_count": 14,
   "metadata": {},
   "outputs": [],
   "source": [
    "ResultFile = open(\"TestResults.txt\", \"r\")\n",
    "\n",
    "ResultDictionary = {}\n",
    "\n",
    "for Result in ResultFile:\n",
    "    Result = Result.split()\n",
    "    ResultDictionary[f\"{' '.join(Result[:-1])}\"] = Result[-1]\n",
    "\n",
    "ResultDictionary = dict(sorted(ResultDictionary.items())) #Sorts the dictionary by keys. Will put students in alphabetical order.\n",
    "\n",
    "ResultFile = open(\"TestResults.txt\", \"a\") # Now I need to edit the file.\n",
    "\n",
    "for Result in ResultDictionary:\n",
    "    ResultFile.write(f\" {chr(10)} {Result} : {ResultDictionary[Result]} {chr(10)}\")\n",
    "\n",
    "GradeAList = [Result for Result in ResultDictionary if 60 < int(ResultDictionary[Result]) < 70]\n",
    "GradeBList = [Result for Result in ResultDictionary if 50 < int(ResultDictionary[Result]) < 59]\n",
    "GradeCList = [Result for Result in ResultDictionary if 40 < int(ResultDictionary[Result]) < 49]\n",
    "GradeDList = [Result for Result in ResultDictionary if 30 < int(ResultDictionary[Result]) < 39]\n",
    "GradeEList = [Result for Result in ResultDictionary if 20 < int(ResultDictionary[Result]) < 29]\n",
    "GradeFList = [Result for Result in ResultDictionary if int(ResultDictionary[Result]) < 20]\n",
    "\n",
    "for Result in sorted(ResultDictionary, key=ResultDictionary.get):\n",
    "    ResultFile.write(f\"{Result}: {ResultDictionary[Result]} {chr(10)}\")\n",
    "\n",
    "\n",
    "\n",
    "ResultFile.close()"
   ]
  },
  {
   "cell_type": "markdown",
   "metadata": {},
   "source": [
    "## 3. National Test (*)"
   ]
  },
  {
   "cell_type": "code",
   "execution_count": 36,
   "metadata": {},
   "outputs": [
    {
     "data": {
      "image/png": "[encoded data removed]",
      "text/plain": [
       "<Figure size 640x480 with 2 Axes>"
      ]
     },
     "metadata": {},
     "output_type": "display_data"
    }
   ],
   "source": [
    "import matplotlib.pyplot as plt\n",
    "\n",
    "\n",
    "fig = plt.figure()\n",
    "\n",
    "TestResultsA = open(\"NPvt19MA2A.txt\", 'r')\n",
    "TestResultsB = open('NPvt10Ma2C.txt', 'r')\n",
    "\n",
    "Grades = ['A', 'B', 'C', 'D', 'E', 'F']\n",
    "PercentageA = [Result.split()[1][:-1] for Result in TestResultsA]\n",
    "PercentageB = [Result.split()[1][:-1] for Result in TestResultsB]\n",
    "\n",
    "plt.subplot(2,2,1)\n",
    "plt.pie(PercentageA, labels = Grades)\n",
    "plt.subplot(2,2,2)\n",
    "plt.pie(PercentageB, labels = Grades)\n",
    "plt.tight_layout()\n",
    "plt.show()\n",
    "    "
   ]
  },
  {
   "cell_type": "markdown",
   "metadata": {},
   "source": [
    "## 4. Dice Roll Experiment (**)"
   ]
  },
  {
   "cell_type": "code",
   "execution_count": 67,
   "metadata": {},
   "outputs": [
    {
     "name": "stdout",
     "output_type": "stream",
     "text": [
      "10\n",
      "[2, 1, 2, 2, 2, 1]\n",
      "100\n",
      "[20, 12, 11, 20, 14, 23]\n",
      "1000\n",
      "[153, 175, 174, 155, 168, 175]\n",
      "10000\n",
      "[1607, 1663, 1669, 1730, 1672, 1659]\n",
      "100000\n",
      "[16709, 16634, 16776, 16384, 16730, 16767]\n",
      "1000000\n",
      "[166440, 166923, 167374, 165678, 166951, 166634]\n"
     ]
    }
   ],
   "source": [
    "from random import randint\n",
    "import numpy as np\n",
    "\n",
    "def DiceStats(Throws): # I've borrowed this function that I wrote for a previous assignment with a similar premise.\n",
    "    ''' RETURNS STATISTICS FROM AMOUNT OF THROWS. '''\n",
    "\n",
    "    OnesCaught = 0\n",
    "    TwosCaught = 0\n",
    "    ThreesCaught = 0\n",
    "    FoursCaught = 0\n",
    "    FivesCaught = 0\n",
    "    SixCaught = 0\n",
    "\n",
    "    for Throw in range(Throws):\n",
    "        RandomNum = randint(1,6)\n",
    "        OnesCaught      =   OnesCaught      + 1     if RandomNum == 1 else OnesCaught\n",
    "        TwosCaught      =   TwosCaught      + 1     if RandomNum == 2 else TwosCaught\n",
    "        ThreesCaught    =   ThreesCaught    + 1     if RandomNum == 3 else ThreesCaught\n",
    "        FoursCaught     =   FoursCaught     + 1     if RandomNum == 4 else FoursCaught\n",
    "        FivesCaught     =   FivesCaught     + 1     if RandomNum == 5 else FivesCaught\n",
    "        SixCaught       =   SixCaught       + 1     if RandomNum == 6 else SixCaught\n",
    "\n",
    "    return [OnesCaught, TwosCaught, ThreesCaught, FoursCaught, FivesCaught, SixCaught]\n",
    "\n",
    "ResultFile = open(\"Exercise4DiceRollExperiment.txt\", \"w\")\n",
    "ThrowAmountList = [10, 100, 1000, 10000, 100000, 1000000]\n",
    "\n",
    "for Throws in ThrowAmountList:\n",
    "    print(Throws)\n",
    "\n",
    "    PrintCount = 0\n",
    "    Stats = DiceStats(Throws)\n",
    "    print(Stats)\n",
    "\n",
    "    for DiceNum, Stat in enumerate(Stats):\n",
    "        \n",
    "        DiceNum += 1\n",
    "\n",
    "        if PrintCount == 0:\n",
    "            ResultFile.write(f\"Number of throws: {Throws} {chr(10)}\")\n",
    "\n",
    "        ResultFile.write(f\"{DiceNum}'s: {Stat}, probability: {Stat/Throws} {chr(10)} \")\n",
    "        PrintCount += 1\n",
    "\n",
    "ResultFile.close()\n"
   ]
  }
 ],
 "metadata": {
  "kernelspec": {
   "display_name": "Python 3.9.13 64-bit",
   "language": "python",
   "name": "python3"
  },
  "language_info": {
   "codemirror_mode": {
    "name": "ipython",
    "version": 3
   },
   "file_extension": ".py",
   "mimetype": "text/x-python",
   "name": "python",
   "nbconvert_exporter": "python",
   "pygments_lexer": "ipython3",
   "version": "3.9.13"
  },
  "orig_nbformat": 4,
  "vscode": {
   "interpreter": {
    "hash": "591918dbf680b2bdff6f4384b96f2237519b8ab6acfadf1c6cb7dfdafe56e2cb"
   }
  }
 },
 "nbformat": 4,
 "nbformat_minor": 2
}
