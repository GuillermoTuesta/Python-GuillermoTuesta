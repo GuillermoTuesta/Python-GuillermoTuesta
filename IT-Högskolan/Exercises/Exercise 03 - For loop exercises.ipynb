{
 "cells": [
  {
   "cell_type": "markdown",
   "metadata": {},
   "source": [
    "## 1. Count Numbers (*)"
   ]
  },
  {
   "cell_type": "code",
   "execution_count": 7,
   "metadata": {},
   "outputs": [
    {
     "name": "stdout",
     "output_type": "stream",
     "text": [
      "-10\n",
      "-8\n",
      "-6\n",
      "-4\n",
      "-2\n",
      "0\n",
      "2\n",
      "4\n",
      "6\n",
      "8\n",
      "10\n"
     ]
    }
   ],
   "source": [
    "def ForIncrement(start, end, step = 1):\n",
    "    for x in range(start, end + 1, step):\n",
    "        print(x)\n",
    "\n",
    "ForIncrement(-10, 10)\n",
    "\n",
    "ForIncrement(-10, 10, 2)\n"
   ]
  },
  {
   "cell_type": "markdown",
   "metadata": {},
   "source": [
    "## 2. Arithmetic Sum (*)"
   ]
  },
  {
   "cell_type": "code",
   "execution_count": 12,
   "metadata": {},
   "outputs": [
    {
     "data": {
      "text/plain": [
       "2500"
      ]
     },
     "execution_count": 12,
     "metadata": {},
     "output_type": "execute_result"
    }
   ],
   "source": [
    "def Summer(start, end, step = 1):\n",
    "    sum = 0\n",
    "    for digit in range(start, end + 1, step):\n",
    "        sum += digit\n",
    "    return sum\n",
    "\n",
    "Summer(1, 100)\n",
    "\n",
    "Summer(1, 100, 2)"
   ]
  },
  {
   "cell_type": "markdown",
   "metadata": {},
   "source": [
    "## 3. Multiplication Table (*)"
   ]
  },
  {
   "cell_type": "code",
   "execution_count": 16,
   "metadata": {},
   "outputs": [
    {
     "name": "stdout",
     "output_type": "stream",
     "text": [
      "0\n",
      "6\n",
      "12\n",
      "18\n",
      "24\n",
      "30\n",
      "36\n",
      "42\n",
      "48\n",
      "54\n",
      "60\n",
      "25\n",
      "30\n",
      "35\n",
      "40\n",
      "45\n",
      "50\n",
      "0\n",
      "0\n",
      "0\n",
      "0\n",
      "0\n",
      "0\n",
      "0\n",
      "0\n",
      "0\n",
      "0\n",
      "0\n",
      "0\n",
      "1\n",
      "2\n",
      "3\n",
      "4\n",
      "5\n",
      "6\n",
      "7\n",
      "8\n",
      "9\n",
      "10\n",
      "0\n",
      "2\n",
      "4\n",
      "6\n",
      "8\n",
      "10\n",
      "12\n",
      "14\n",
      "16\n",
      "18\n",
      "20\n",
      "0\n",
      "3\n",
      "6\n",
      "9\n",
      "12\n",
      "15\n",
      "18\n",
      "21\n",
      "24\n",
      "27\n",
      "30\n",
      "0\n",
      "4\n",
      "8\n",
      "12\n",
      "16\n",
      "20\n",
      "24\n",
      "28\n",
      "32\n",
      "36\n",
      "40\n",
      "0\n",
      "5\n",
      "10\n",
      "15\n",
      "20\n",
      "25\n",
      "30\n",
      "35\n",
      "40\n",
      "45\n",
      "50\n",
      "0\n",
      "6\n",
      "12\n",
      "18\n",
      "24\n",
      "30\n",
      "36\n",
      "42\n",
      "48\n",
      "54\n",
      "60\n",
      "0\n",
      "7\n",
      "14\n",
      "21\n",
      "28\n",
      "35\n",
      "42\n",
      "49\n",
      "56\n",
      "63\n",
      "70\n",
      "0\n",
      "8\n",
      "16\n",
      "24\n",
      "32\n",
      "40\n",
      "48\n",
      "56\n",
      "64\n",
      "72\n",
      "80\n",
      "0\n",
      "9\n",
      "18\n",
      "27\n",
      "36\n",
      "45\n",
      "54\n",
      "63\n",
      "72\n",
      "81\n",
      "90\n",
      "0\n",
      "10\n",
      "20\n",
      "30\n",
      "40\n",
      "50\n",
      "60\n",
      "70\n",
      "80\n",
      "90\n",
      "100\n"
     ]
    }
   ],
   "source": [
    "def MultiplicationTable(table, start, end):\n",
    "    for digit in range(start, end + 1):\n",
    "       print(table*digit)\n",
    "\n",
    "MultiplicationTable(6, 0, 10) \n",
    "\n",
    "UserTable = int(input(\"Choose a multiplication table: \"))\n",
    "UserStart = int(input(\"Choose which number to start printing the multiplication table from: \"))\n",
    "UserEnd = int(input(\"Choose where to stop printing the multiplication table: \"))\n",
    "\n",
    "MultiplicationTable(UserTable, UserStart, UserEnd)\n",
    "\n",
    "for x in range(0, 11):\n",
    "    MultiplicationTable(x, 0 , 10)\n",
    "\n"
   ]
  },
  {
   "cell_type": "markdown",
   "metadata": {},
   "source": [
    "## 4. Faculty (*)"
   ]
  },
  {
   "cell_type": "code",
   "execution_count": 25,
   "metadata": {},
   "outputs": [
    {
     "ename": "ValueError",
     "evalue": "invalid literal for int() with base 10: '5.5'",
     "output_type": "error",
     "traceback": [
      "\u001b[1;31m---------------------------------------------------------------------------\u001b[0m",
      "\u001b[1;31mValueError\u001b[0m                                Traceback (most recent call last)",
      "\u001b[1;32mc:\\OD\\OneDrive - onmidroc\\Documents\\Github\\Python-GuillermoTuesta\\IT-Högskolan\\Exercises\\Exercise 03 - For loop exercises.ipynb Cell 8\u001b[0m in \u001b[0;36m<cell line: 7>\u001b[1;34m()\u001b[0m\n\u001b[0;32m      <a href='vscode-notebook-cell:/c%3A/OD/OneDrive%20-%20onmidroc/Documents/Github/Python-GuillermoTuesta/IT-H%C3%B6gskolan/Exercises/Exercise%2003%20-%20For%20loop%20exercises.ipynb#X11sZmlsZQ%3D%3D?line=3'>4</a>\u001b[0m         FacultyProduct \u001b[39m=\u001b[39m FacultyProduct \u001b[39m*\u001b[39m num\n\u001b[0;32m      <a href='vscode-notebook-cell:/c%3A/OD/OneDrive%20-%20onmidroc/Documents/Github/Python-GuillermoTuesta/IT-H%C3%B6gskolan/Exercises/Exercise%2003%20-%20For%20loop%20exercises.ipynb#X11sZmlsZQ%3D%3D?line=4'>5</a>\u001b[0m     \u001b[39mreturn\u001b[39;00m FacultyProduct\n\u001b[1;32m----> <a href='vscode-notebook-cell:/c%3A/OD/OneDrive%20-%20onmidroc/Documents/Github/Python-GuillermoTuesta/IT-H%C3%B6gskolan/Exercises/Exercise%2003%20-%20For%20loop%20exercises.ipynb#X11sZmlsZQ%3D%3D?line=6'>7</a>\u001b[0m UserFac \u001b[39m=\u001b[39m \u001b[39mint\u001b[39;49m(\u001b[39minput\u001b[39;49m(\u001b[39m\"\u001b[39;49m\u001b[39mInput a number to get the factorial of that number: \u001b[39;49m\u001b[39m\"\u001b[39;49m))\n\u001b[0;32m      <a href='vscode-notebook-cell:/c%3A/OD/OneDrive%20-%20onmidroc/Documents/Github/Python-GuillermoTuesta/IT-H%C3%B6gskolan/Exercises/Exercise%2003%20-%20For%20loop%20exercises.ipynb#X11sZmlsZQ%3D%3D?line=8'>9</a>\u001b[0m faculty(UserFac)\n",
      "\u001b[1;31mValueError\u001b[0m: invalid literal for int() with base 10: '5.5'"
     ]
    }
   ],
   "source": [
    "def faculty(x):\n",
    "    FacultyProduct = 1\n",
    "    for num in range(1, x + 1):\n",
    "        FacultyProduct = FacultyProduct * num\n",
    "    return FacultyProduct\n",
    "\n",
    "UserFac = int(input(\"Input a number to get the factorial of that number: \"))\n",
    "\n",
    "faculty(UserFac)"
   ]
  },
  {
   "cell_type": "markdown",
   "metadata": {},
   "source": [
    "## 5. Guess the number(*)"
   ]
  },
  {
   "cell_type": "code",
   "execution_count": 31,
   "metadata": {},
   "outputs": [
    {
     "name": "stdout",
     "output_type": "stream",
     "text": [
      "The loop found the winning number 6758!\n"
     ]
    }
   ],
   "source": [
    "from random import randint\n",
    "\n",
    "def GuessingGame():\n",
    "    WinningNumber = randint(1000, 9999)\n",
    "    for x in range(1000, 10000):\n",
    "        if x == WinningNumber:\n",
    "            print(f\"The loop found the winning number {x}!\")\n",
    "            break\n",
    "\n",
    "GuessingGame()"
   ]
  },
  {
   "cell_type": "markdown",
   "metadata": {},
   "source": [
    "## 6. Rice on the chessboard (*)"
   ]
  },
  {
   "cell_type": "code",
   "execution_count": 36,
   "metadata": {},
   "outputs": [
    {
     "data": {
      "text/plain": [
       "36893488147419103231"
      ]
     },
     "execution_count": 36,
     "metadata": {},
     "output_type": "execute_result"
    }
   ],
   "source": [
    "def PowerSum(base, end):\n",
    "    sum = 0\n",
    "    for x in range(0, end + 1):\n",
    "        sum += base**x\n",
    "    return sum\n",
    "\n",
    "PowerSum(2, 64)"
   ]
  }
 ],
 "metadata": {
  "kernelspec": {
   "display_name": "Python 3.9.13 64-bit",
   "language": "python",
   "name": "python3"
  },
  "language_info": {
   "codemirror_mode": {
    "name": "ipython",
    "version": 3
   },
   "file_extension": ".py",
   "mimetype": "text/x-python",
   "name": "python",
   "nbconvert_exporter": "python",
   "pygments_lexer": "ipython3",
   "version": "3.9.13"
  },
  "orig_nbformat": 4,
  "vscode": {
   "interpreter": {
    "hash": "591918dbf680b2bdff6f4384b96f2237519b8ab6acfadf1c6cb7dfdafe56e2cb"
   }
  }
 },
 "nbformat": 4,
 "nbformat_minor": 2
}
