{
 "cells": [
  {
   "cell_type": "markdown",
   "metadata": {},
   "source": [
    "## 1. Curriculum (*)"
   ]
  },
  {
   "cell_type": "code",
   "execution_count": null,
   "metadata": {},
   "outputs": [],
   "source": [
    "def CurriculumPointSum(CurriculumDictionary):\n",
    "\n",
    "# Var är den filen??"
   ]
  },
  {
   "cell_type": "markdown",
   "metadata": {},
   "source": [
    "## 2. Dice Simulation (*)"
   ]
  },
  {
   "cell_type": "code",
   "execution_count": 5,
   "metadata": {},
   "outputs": [
    {
     "name": "stdout",
     "output_type": "stream",
     "text": [
      "{'1': 166878, '2': 166830, '3': 166466, '4': 167260, '5': 165754, '6': 166812}\n"
     ]
    }
   ],
   "source": [
    "from random import randint\n",
    "\n",
    "def DiceStats(Throws): # I've borrowed this function that I wrote for a previous assignment with a similar premise.\n",
    "    ''' RETURNS STATISTICS FROM AMOUNT OF THROWS. '''\n",
    "\n",
    "    OnesCaught = 0\n",
    "    TwosCaught = 0\n",
    "    ThreesCaught = 0\n",
    "    FoursCaught = 0\n",
    "    FivesCaught = 0\n",
    "    SixCaught = 0\n",
    "\n",
    "    for Throw in range(Throws):\n",
    "        RandomNum = randint(1,6)\n",
    "        OnesCaught      =   OnesCaught      + 1     if RandomNum == 1 else OnesCaught\n",
    "        TwosCaught      =   TwosCaught      + 1     if RandomNum == 2 else TwosCaught\n",
    "        ThreesCaught    =   ThreesCaught    + 1     if RandomNum == 3 else ThreesCaught\n",
    "        FoursCaught     =   FoursCaught     + 1     if RandomNum == 4 else FoursCaught\n",
    "        FivesCaught     =   FivesCaught     + 1     if RandomNum == 5 else FivesCaught\n",
    "        SixCaught       =   SixCaught       + 1     if RandomNum == 6 else SixCaught\n",
    "\n",
    "    return [OnesCaught, TwosCaught, ThreesCaught, FoursCaught, FivesCaught, SixCaught]\n",
    "\n",
    "DiceStatDictionary = {}\n",
    "for DiceNum, Amount in enumerate(DiceStats(1000000)):\n",
    "    DiceNum += 1\n",
    "    DiceStatDictionary[f\"{DiceNum}\"] = Amount\n",
    "\n",
    "print(DiceStatDictionary)"
   ]
  },
  {
   "cell_type": "markdown",
   "metadata": {},
   "source": [
    "## 3. Pokemon List (*)"
   ]
  },
  {
   "cell_type": "code",
   "execution_count": null,
   "metadata": {},
   "outputs": [],
   "source": []
  }
 ],
 "metadata": {
  "kernelspec": {
   "display_name": "Python 3.9.13 64-bit",
   "language": "python",
   "name": "python3"
  },
  "language_info": {
   "codemirror_mode": {
    "name": "ipython",
    "version": 3
   },
   "file_extension": ".py",
   "mimetype": "text/x-python",
   "name": "python",
   "nbconvert_exporter": "python",
   "pygments_lexer": "ipython3",
   "version": "3.9.13"
  },
  "orig_nbformat": 4,
  "vscode": {
   "interpreter": {
    "hash": "591918dbf680b2bdff6f4384b96f2237519b8ab6acfadf1c6cb7dfdafe56e2cb"
   }
  }
 },
 "nbformat": 4,
 "nbformat_minor": 2
}
