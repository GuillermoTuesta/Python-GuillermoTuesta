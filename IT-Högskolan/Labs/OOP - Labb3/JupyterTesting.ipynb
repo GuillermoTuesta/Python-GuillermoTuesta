{
 "cells": [
  {
   "cell_type": "code",
   "execution_count": 9,
   "metadata": {},
   "outputs": [
    {
     "data": {
      "text/plain": [
       "True"
      ]
     },
     "execution_count": 9,
     "metadata": {},
     "output_type": "execute_result"
    }
   ],
   "source": [
    "import geometry_shapes as gs\n",
    "\n",
    "c1 = gs.Circle(0, 0, 1)\n",
    "c2 = gs.Circle(0, 0, 1)\n",
    "c3 = gs.Circle(0, 0, 3)\n",
    "\n",
    "r1 = gs.Rectangle(0, 0, 1, 1)\n",
    "r2 = gs.Rectangle(0, 0, 1, 1)\n",
    "r3 = gs.Rectangle(0, 0, 1, 2)\n",
    "\n",
    "c1.contains(1,0)"
   ]
  }
 ],
 "metadata": {
  "kernelspec": {
   "display_name": "Python 3.9.13 64-bit",
   "language": "python",
   "name": "python3"
  },
  "language_info": {
   "codemirror_mode": {
    "name": "ipython",
    "version": 3
   },
   "file_extension": ".py",
   "mimetype": "text/x-python",
   "name": "python",
   "nbconvert_exporter": "python",
   "pygments_lexer": "ipython3",
   "version": "3.9.13"
  },
  "orig_nbformat": 4,
  "vscode": {
   "interpreter": {
    "hash": "591918dbf680b2bdff6f4384b96f2237519b8ab6acfadf1c6cb7dfdafe56e2cb"
   }
  }
 },
 "nbformat": 4,
 "nbformat_minor": 2
}
