{
 "cells": [
  {
   "cell_type": "code",
   "execution_count": 1,
   "metadata": {},
   "outputs": [
    {
     "name": "stdout",
     "output_type": "stream",
     "text": [
      "test\n"
     ]
    },
    {
     "data": {
      "text/plain": [
       "'Rectangle(2, 2, 3, 3)'"
      ]
     },
     "execution_count": 1,
     "metadata": {},
     "output_type": "execute_result"
    }
   ],
   "source": [
    "import geometry_shapes as gs\n",
    "\n",
    "test_circle = gs.Circle(2, 2, 2)\n",
    "wrong_circle = gs.Circle('t', 2, 2)\n",
    "test_rectangle = gs.Rectangle(0,0,3,3)\n",
    "\n",
    "wrong_circle\n",
    "test_rectangle.transform(2,2)\n",
    "repr(test_rectangle)"
   ]
  }
 ],
 "metadata": {
  "kernelspec": {
   "display_name": "Python 3.9.13 64-bit",
   "language": "python",
   "name": "python3"
  },
  "language_info": {
   "codemirror_mode": {
    "name": "ipython",
    "version": 3
   },
   "file_extension": ".py",
   "mimetype": "text/x-python",
   "name": "python",
   "nbconvert_exporter": "python",
   "pygments_lexer": "ipython3",
   "version": "3.9.13"
  },
  "orig_nbformat": 4,
  "vscode": {
   "interpreter": {
    "hash": "e33bfc40c55d6392faa2ba66fc7634142bd77fa564fd6b4a9ca8b5d38a6f627a"
   }
  }
 },
 "nbformat": 4,
 "nbformat_minor": 2
}
