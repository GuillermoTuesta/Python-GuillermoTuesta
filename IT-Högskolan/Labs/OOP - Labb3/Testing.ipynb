{
 "cells": [
  {
   "cell_type": "code",
   "execution_count": 1,
   "metadata": {},
   "outputs": [
    {
     "name": "stdout",
     "output_type": "stream",
     "text": [
      "True\n"
     ]
    },
    {
     "ename": "TypeError",
     "evalue": "Circle class: Other object is not a circle, object is of type RectangleShape",
     "output_type": "error",
     "traceback": [
      "\u001b[1;31m---------------------------------------------------------------------------\u001b[0m",
      "\u001b[1;31mTypeError\u001b[0m                                 Traceback (most recent call last)",
      "\u001b[1;32mc:\\Users\\GuillermoTuestaRodri\\Documents\\Github\\Python-GuillermoTuesta\\IT-Högskolan\\Labs\\OOP - Labb3\\Testing.ipynb Cell 1\u001b[0m in \u001b[0;36m<cell line: 1>\u001b[1;34m()\u001b[0m\n\u001b[1;32m----> <a href='vscode-notebook-cell:/c%3A/Users/GuillermoTuestaRodri/Documents/Github/Python-GuillermoTuesta/IT-H%C3%B6gskolan/Labs/OOP%20-%20Labb3/Testing.ipynb#W0sZmlsZQ%3D%3D?line=0'>1</a>\u001b[0m \u001b[39mimport\u001b[39;00m \u001b[39mgeometry_shapes\u001b[39;00m \u001b[39mas\u001b[39;00m \u001b[39mgs\u001b[39;00m\n\u001b[0;32m      <a href='vscode-notebook-cell:/c%3A/Users/GuillermoTuestaRodri/Documents/Github/Python-GuillermoTuesta/IT-H%C3%B6gskolan/Labs/OOP%20-%20Labb3/Testing.ipynb#W0sZmlsZQ%3D%3D?line=2'>3</a>\u001b[0m test_circle \u001b[39m=\u001b[39m gs\u001b[39m.\u001b[39mCircleShape(\u001b[39m2\u001b[39m,\u001b[39m2\u001b[39m,\u001b[39m2\u001b[39m)\n\u001b[0;32m      <a href='vscode-notebook-cell:/c%3A/Users/GuillermoTuestaRodri/Documents/Github/Python-GuillermoTuesta/IT-H%C3%B6gskolan/Labs/OOP%20-%20Labb3/Testing.ipynb#W0sZmlsZQ%3D%3D?line=4'>5</a>\u001b[0m test_circle\n",
      "File \u001b[1;32mc:\\Users\\GuillermoTuestaRodri\\Documents\\Github\\Python-GuillermoTuesta\\IT-Högskolan\\Labs\\OOP - Labb3\\geometry_shapes.py:45\u001b[0m, in \u001b[0;36m<module>\u001b[1;34m\u001b[0m\n\u001b[0;32m     41\u001b[0m TestRectangle \u001b[39m=\u001b[39m RectangleShape(\u001b[39m1\u001b[39m,\u001b[39m2\u001b[39m,\u001b[39m3\u001b[39m, \u001b[39m4\u001b[39m)\n\u001b[0;32m     43\u001b[0m \u001b[39mprint\u001b[39m(TestCircle \u001b[39m==\u001b[39m TestCircle2)\n\u001b[1;32m---> 45\u001b[0m \u001b[39mprint\u001b[39m(TestCircle \u001b[39m==\u001b[39;49m TestRectangle)\n\u001b[0;32m     48\u001b[0m \u001b[39mprint\u001b[39m(TestRectangle\u001b[39m.\u001b[39m\u001b[39m__repr__\u001b[39m())\n\u001b[0;32m     50\u001b[0m \u001b[39mprint\u001b[39m(TestRectangle\u001b[39m.\u001b[39m\u001b[39m__str__\u001b[39m())\n",
      "File \u001b[1;32mc:\\Users\\GuillermoTuestaRodri\\Documents\\Github\\Python-GuillermoTuesta\\IT-Högskolan\\Labs\\OOP - Labb3\\geometry_shapes.py:19\u001b[0m, in \u001b[0;36mCircleShape.__eq__\u001b[1;34m(self, other)\u001b[0m\n\u001b[0;32m     17\u001b[0m \u001b[39mdef\u001b[39;00m \u001b[39m__eq__\u001b[39m(\u001b[39mself\u001b[39m, other):\n\u001b[0;32m     18\u001b[0m     \u001b[39mif\u001b[39;00m \u001b[39mnot\u001b[39;00m \u001b[39misinstance\u001b[39m(other, CircleShape):\n\u001b[1;32m---> 19\u001b[0m         \u001b[39mraise\u001b[39;00m \u001b[39mTypeError\u001b[39;00m(\u001b[39mf\u001b[39m\u001b[39m\"\u001b[39m\u001b[39mCircle class: Other object is not a circle, object is of type \u001b[39m\u001b[39m{\u001b[39;00m\u001b[39mtype\u001b[39m(other)\u001b[39m.\u001b[39m\u001b[39m__name__\u001b[39m\u001b[39m}\u001b[39;00m\u001b[39m\"\u001b[39m)\n\u001b[0;32m     20\u001b[0m     \u001b[39mreturn\u001b[39;00m \u001b[39mself\u001b[39m\u001b[39m.\u001b[39mradius \u001b[39m==\u001b[39m other\u001b[39m.\u001b[39mradius\n",
      "\u001b[1;31mTypeError\u001b[0m: Circle class: Other object is not a circle, object is of type RectangleShape"
     ]
    }
   ],
   "source": [
    "import geometry_shapes as gs\n",
    "\n",
    "test_circle = gs.CircleShape(2,2,2)\n",
    "\n",
    "test_circle"
   ]
  }
 ],
 "metadata": {
  "kernelspec": {
   "display_name": "Python 3.9.13 64-bit",
   "language": "python",
   "name": "python3"
  },
  "language_info": {
   "codemirror_mode": {
    "name": "ipython",
    "version": 3
   },
   "file_extension": ".py",
   "mimetype": "text/x-python",
   "name": "python",
   "nbconvert_exporter": "python",
   "pygments_lexer": "ipython3",
   "version": "3.9.13"
  },
  "orig_nbformat": 4,
  "vscode": {
   "interpreter": {
    "hash": "e33bfc40c55d6392faa2ba66fc7634142bd77fa564fd6b4a9ca8b5d38a6f627a"
   }
  }
 },
 "nbformat": 4,
 "nbformat_minor": 2
}
