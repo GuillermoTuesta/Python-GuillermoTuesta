{
 "cells": [
  {
   "cell_type": "code",
   "execution_count": 1,
   "metadata": {},
   "outputs": [
    {
     "ename": "TypeError",
     "evalue": "unsupported operand type(s) for -: 'str' and 'int'",
     "output_type": "error",
     "traceback": [
      "\u001b[1;31m---------------------------------------------------------------------------\u001b[0m",
      "\u001b[1;31mTypeError\u001b[0m                                 Traceback (most recent call last)",
      "\u001b[1;32mc:\\OD\\OneDrive - onmidroc\\Documents\\Github\\Python-GuillermoTuesta\\IT-Högskolan\\Labs\\OOP - Labb3\\Testing.ipynb Cell 1\u001b[0m in \u001b[0;36m<cell line: 11>\u001b[1;34m()\u001b[0m\n\u001b[0;32m      <a href='vscode-notebook-cell:/c%3A/OD/OneDrive%20-%20onmidroc/Documents/Github/Python-GuillermoTuesta/IT-H%C3%B6gskolan/Labs/OOP%20-%20Labb3/Testing.ipynb#W0sZmlsZQ%3D%3D?line=7'>8</a>\u001b[0m r2 \u001b[39m=\u001b[39m gs\u001b[39m.\u001b[39mRectangle(\u001b[39m0\u001b[39m, \u001b[39m0\u001b[39m, \u001b[39m1\u001b[39m, \u001b[39m1\u001b[39m)\n\u001b[0;32m      <a href='vscode-notebook-cell:/c%3A/OD/OneDrive%20-%20onmidroc/Documents/Github/Python-GuillermoTuesta/IT-H%C3%B6gskolan/Labs/OOP%20-%20Labb3/Testing.ipynb#W0sZmlsZQ%3D%3D?line=8'>9</a>\u001b[0m r3 \u001b[39m=\u001b[39m gs\u001b[39m.\u001b[39mRectangle(\u001b[39m0\u001b[39m, \u001b[39m0\u001b[39m, \u001b[39m1\u001b[39m, \u001b[39m2\u001b[39m)\n\u001b[1;32m---> <a href='vscode-notebook-cell:/c%3A/OD/OneDrive%20-%20onmidroc/Documents/Github/Python-GuillermoTuesta/IT-H%C3%B6gskolan/Labs/OOP%20-%20Labb3/Testing.ipynb#W0sZmlsZQ%3D%3D?line=10'>11</a>\u001b[0m c1\u001b[39m.\u001b[39;49mcontains(\u001b[39m0\u001b[39;49m,\u001b[39m'\u001b[39;49m\u001b[39mt\u001b[39;49m\u001b[39m'\u001b[39;49m)\n",
      "File \u001b[1;32mc:\\OD\\OneDrive - onmidroc\\Documents\\Github\\Python-GuillermoTuesta\\IT-Högskolan\\Labs\\OOP - Labb3\\geometry_shapes.py:139\u001b[0m, in \u001b[0;36mCircle.contains\u001b[1;34m(self, x_cord, y_cord)\u001b[0m\n\u001b[0;32m    137\u001b[0m \u001b[39mdef\u001b[39;00m \u001b[39mcontains\u001b[39m(\u001b[39mself\u001b[39m, x_cord, y_cord) \u001b[39m-\u001b[39m\u001b[39m>\u001b[39m \u001b[39mbool\u001b[39m:\n\u001b[0;32m    138\u001b[0m \t\u001b[39m'''Checks if a pair of coordinates (x,y) lie within the circle.'''\u001b[39;00m\n\u001b[1;32m--> 139\u001b[0m \t\u001b[39mreturn\u001b[39;00m ((x_cord \u001b[39m-\u001b[39m \u001b[39mself\u001b[39m\u001b[39m.\u001b[39m_x)\u001b[39m*\u001b[39m\u001b[39m*\u001b[39m\u001b[39m2\u001b[39m \u001b[39m+\u001b[39m (y_cord \u001b[39m-\u001b[39;49m \u001b[39mself\u001b[39;49m\u001b[39m.\u001b[39;49m_y)\u001b[39m*\u001b[39m\u001b[39m*\u001b[39m\u001b[39m2\u001b[39m)\u001b[39m*\u001b[39m\u001b[39m*\u001b[39m(\u001b[39m1\u001b[39m\u001b[39m/\u001b[39m\u001b[39m2\u001b[39m) \u001b[39m<\u001b[39m\u001b[39m=\u001b[39m \u001b[39mself\u001b[39m\u001b[39m.\u001b[39m_radius\n",
      "\u001b[1;31mTypeError\u001b[0m: unsupported operand type(s) for -: 'str' and 'int'"
     ]
    }
   ],
   "source": [
    "import geometry_shapes as gs\n",
    "\n",
    "c1 = gs.Circle(0, 0, 1)\n",
    "c2 = gs.Circle(0, 0, 1)\n",
    "c3 = gs.Circle(0, 0, 3)\n",
    "\n",
    "r1 = gs.Rectangle(0, 0, 1, 1)\n",
    "r2 = gs.Rectangle(0, 0, 1, 1)\n",
    "r3 = gs.Rectangle(0, 0, 1, 2)\n",
    "\n",
    "c1.contains(0,[0])"
   ]
  }
 ],
 "metadata": {
  "kernelspec": {
   "display_name": "Python 3.9.13 64-bit",
   "language": "python",
   "name": "python3"
  },
  "language_info": {
   "codemirror_mode": {
    "name": "ipython",
    "version": 3
   },
   "file_extension": ".py",
   "mimetype": "text/x-python",
   "name": "python",
   "nbconvert_exporter": "python",
   "pygments_lexer": "ipython3",
   "version": "3.9.13"
  },
  "orig_nbformat": 4,
  "vscode": {
   "interpreter": {
    "hash": "591918dbf680b2bdff6f4384b96f2237519b8ab6acfadf1c6cb7dfdafe56e2cb"
   }
  }
 },
 "nbformat": 4,
 "nbformat_minor": 2
}
