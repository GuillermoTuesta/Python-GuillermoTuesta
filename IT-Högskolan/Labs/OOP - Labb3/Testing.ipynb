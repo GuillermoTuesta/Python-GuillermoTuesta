{
 "cells": [
  {
   "cell_type": "code",
   "execution_count": 13,
   "metadata": {},
   "outputs": [
    {
     "ename": "TypeError",
     "evalue": "__gt__(>) operator type mismatch: Can only compare same shapes: type(self) = <class 'geometry_shapes.Circle'>, type(other) = <class 'geometry_shapes.Rectangle'>",
     "output_type": "error",
     "traceback": [
      "\u001b[1;31m---------------------------------------------------------------------------\u001b[0m",
      "\u001b[1;31mTypeError\u001b[0m                                 Traceback (most recent call last)",
      "\u001b[1;32mc:\\OD\\OneDrive - onmidroc\\Documents\\Github\\Python-GuillermoTuesta\\IT-Högskolan\\Labs\\OOP - Labb3\\Testing.ipynb Cell 1\u001b[0m in \u001b[0;36m<cell line: 11>\u001b[1;34m()\u001b[0m\n\u001b[0;32m      <a href='vscode-notebook-cell:/c%3A/OD/OneDrive%20-%20onmidroc/Documents/Github/Python-GuillermoTuesta/IT-H%C3%B6gskolan/Labs/OOP%20-%20Labb3/Testing.ipynb#W0sZmlsZQ%3D%3D?line=7'>8</a>\u001b[0m r2 \u001b[39m=\u001b[39m gs\u001b[39m.\u001b[39mRectangle(\u001b[39m0\u001b[39m, \u001b[39m0\u001b[39m, \u001b[39m1\u001b[39m, \u001b[39m1\u001b[39m)\n\u001b[0;32m      <a href='vscode-notebook-cell:/c%3A/OD/OneDrive%20-%20onmidroc/Documents/Github/Python-GuillermoTuesta/IT-H%C3%B6gskolan/Labs/OOP%20-%20Labb3/Testing.ipynb#W0sZmlsZQ%3D%3D?line=8'>9</a>\u001b[0m r3 \u001b[39m=\u001b[39m gs\u001b[39m.\u001b[39mRectangle(\u001b[39m0\u001b[39m, \u001b[39m0\u001b[39m, \u001b[39m1\u001b[39m, \u001b[39m2\u001b[39m)\n\u001b[1;32m---> <a href='vscode-notebook-cell:/c%3A/OD/OneDrive%20-%20onmidroc/Documents/Github/Python-GuillermoTuesta/IT-H%C3%B6gskolan/Labs/OOP%20-%20Labb3/Testing.ipynb#W0sZmlsZQ%3D%3D?line=10'>11</a>\u001b[0m c1 \u001b[39m>\u001b[39;49m r3\n",
      "File \u001b[1;32mc:\\OD\\OneDrive - onmidroc\\Documents\\Github\\Python-GuillermoTuesta\\IT-Högskolan\\Labs\\OOP - Labb3\\geometry_shapes.py:151\u001b[0m, in \u001b[0;36m__gt__\u001b[1;34m(self, other)\u001b[0m\n\u001b[0;32m    148\u001b[0m \u001b[39mdef\u001b[39;00m \u001b[39m__le__\u001b[39m(\u001b[39mself\u001b[39m, other) \u001b[39m-\u001b[39m\u001b[39m>\u001b[39m \u001b[39mbool\u001b[39m:\n\u001b[0;32m    149\u001b[0m \t\u001b[39mreturn\u001b[39;00m \u001b[39msuper\u001b[39m()\u001b[39m.\u001b[39m\u001b[39m__le__\u001b[39m(other)\n\u001b[1;32m--> 151\u001b[0m \u001b[39mdef\u001b[39;00m \u001b[39m__gt__\u001b[39m(\u001b[39mself\u001b[39m, other) \u001b[39m-\u001b[39m\u001b[39m>\u001b[39m \u001b[39mbool\u001b[39m:\n\u001b[0;32m    152\u001b[0m \t\u001b[39mreturn\u001b[39;00m \u001b[39msuper\u001b[39m()\u001b[39m.\u001b[39m\u001b[39m__gt__\u001b[39m(other)\n\u001b[0;32m    154\u001b[0m \u001b[39mdef\u001b[39;00m \u001b[39m__ge__\u001b[39m(\u001b[39mself\u001b[39m, other) \u001b[39m-\u001b[39m\u001b[39m>\u001b[39m \u001b[39mbool\u001b[39m:\n",
      "File \u001b[1;32mc:\\OD\\OneDrive - onmidroc\\Documents\\Github\\Python-GuillermoTuesta\\IT-Högskolan\\Labs\\OOP - Labb3\\geometry_shapes.py:51\u001b[0m, in \u001b[0;36m__gt__\u001b[1;34m(self, other)\u001b[0m\n\u001b[0;32m     50\u001b[0m \u001b[39mdef\u001b[39;00m \u001b[39m__gt__\u001b[39m(\u001b[39mself\u001b[39m, other):\n\u001b[1;32m---> 51\u001b[0m \t\u001b[39mif\u001b[39;00m \u001b[39mnot\u001b[39;00m \u001b[39misinstance\u001b[39m(other, \u001b[39mtype\u001b[39m(\u001b[39mself\u001b[39m)):\n\u001b[0;32m     52\u001b[0m \t\t\u001b[39mraise\u001b[39;00m \u001b[39mTypeError\u001b[39;00m(\u001b[39mf\u001b[39m\u001b[39m\"\u001b[39m\u001b[39m__gt__(>) operator type mismatch: Can only compare same shapes: type(self) = \u001b[39m\u001b[39m{\u001b[39;00m\u001b[39mtype\u001b[39m(\u001b[39mself\u001b[39m)\u001b[39m}\u001b[39;00m\u001b[39m, type(other) = \u001b[39m\u001b[39m{\u001b[39;00m\u001b[39mtype\u001b[39m(other)\u001b[39m}\u001b[39;00m\u001b[39m\"\u001b[39m)\t\n\u001b[0;32m     53\u001b[0m \t\u001b[39mreturn\u001b[39;00m \u001b[39mself\u001b[39m\u001b[39m.\u001b[39marea \u001b[39m>\u001b[39m other\u001b[39m.\u001b[39marea\n",
      "\u001b[1;31mTypeError\u001b[0m: __gt__(>) operator type mismatch: Can only compare same shapes: type(self) = <class 'geometry_shapes.Circle'>, type(other) = <class 'geometry_shapes.Rectangle'>"
     ]
    }
   ],
   "source": [
    "import geometry_shapes as gs\n",
    "\n",
    "c1 = gs.Circle(0, 0, 1)\n",
    "c2 = gs.Circle(0, 0, 1)\n",
    "c3 = gs.Circle(0, 0, 3)\n",
    "\n",
    "r1 = gs.Rectangle(0, 0, 1, 1)\n",
    "r2 = gs.Rectangle(0, 0, 1, 1)\n",
    "r3 = gs.Rectangle(0, 0, 1, 2)"
   ]
  }
 ],
 "metadata": {
  "kernelspec": {
   "display_name": "Python 3.9.13 64-bit",
   "language": "python",
   "name": "python3"
  },
  "language_info": {
   "codemirror_mode": {
    "name": "ipython",
    "version": 3
   },
   "file_extension": ".py",
   "mimetype": "text/x-python",
   "name": "python",
   "nbconvert_exporter": "python",
   "pygments_lexer": "ipython3",
   "version": "3.9.13"
  },
  "orig_nbformat": 4,
  "vscode": {
   "interpreter": {
    "hash": "591918dbf680b2bdff6f4384b96f2237519b8ab6acfadf1c6cb7dfdafe56e2cb"
   }
  }
 },
 "nbformat": 4,
 "nbformat_minor": 2
}
