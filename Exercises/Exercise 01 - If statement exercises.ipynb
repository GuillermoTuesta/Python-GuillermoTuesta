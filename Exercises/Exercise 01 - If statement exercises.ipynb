{
 "cells": [
  {
   "cell_type": "markdown",
   "metadata": {},
   "source": [
    "## 1. Check sign (*)"
   ]
  },
  {
   "cell_type": "code",
   "execution_count": 13,
   "metadata": {},
   "outputs": [
    {
     "name": "stdout",
     "output_type": "stream",
     "text": [
      "The value is positive.\n",
      "None\n"
     ]
    }
   ],
   "source": [
    "def ValueCheck(UserInput):\n",
    "    if UserInput == 0:\n",
    "        print(\"The value is zero.\")\n",
    "\n",
    "    elif type(UserInput) != int and type(UserInput) != float and type(UserInput) != complex:\n",
    "        print(\"ERROR: Enter a number.\")\n",
    "        return None\n",
    "\n",
    "    elif UserInput > 0:\n",
    "        print(\"The value is positive.\")\n",
    "    else:\n",
    "        print(\"The value is negative.\")\n",
    "    \n",
    "InputValue = int(input(\"Enter a value to check.\"))\n",
    "print(f\"{ValueCheck(InputValue)}\")"
   ]
  },
  {
   "cell_type": "markdown",
   "metadata": {},
   "source": [
    "## 2.  Smallest (*)"
   ]
  },
  {
   "cell_type": "code",
   "execution_count": 24,
   "metadata": {},
   "outputs": [
    {
     "name": "stdout",
     "output_type": "stream",
     "text": [
      "4\n"
     ]
    }
   ],
   "source": [
    "def SmallestInput(a, b):\n",
    "    if a == b:\n",
    "        return a\n",
    "    return a if a < b else b\n",
    "\n",
    "print(SmallestInput(input(\"Input first value: \"), input(\"Input second value: \"))) "
   ]
  },
  {
   "cell_type": "markdown",
   "metadata": {},
   "source": [
    "## 3. Right Angle (*)"
   ]
  },
  {
   "cell_type": "code",
   "execution_count": 40,
   "metadata": {},
   "outputs": [
    {
     "name": "stdout",
     "output_type": "stream",
     "text": [
      "177\n",
      "RightAngleCheck: Invalid Inputs.\n"
     ]
    },
    {
     "data": {
      "text/plain": [
       "False"
      ]
     },
     "execution_count": 40,
     "metadata": {},
     "output_type": "execute_result"
    }
   ],
   "source": [
    "def RightAngleCheck(angle1, angle2, angle3):\n",
    "    angles = [angle1, angle2, angle3]\n",
    "    AngleSum = 0\n",
    "\n",
    "    for angle in angles: # for loop to validate all angle inputs.\n",
    "        AngleSum += angle\n",
    "        if (AngleSum != 180 and angles.index(angle) == 2) or angle <= 0: # simply checking that an angle isn't <= 0 is enough to eliminate all other invalid combinations (180, -180, etc)\n",
    "            print(\"RightAngleCheck: Invalid Inputs.\")\n",
    "            return False\n",
    "\n",
    "    for angle in angles: # then run simple loop to check if any angle is 90.\n",
    "        if angle == 90:\n",
    "            return True\n",
    "\n",
    "    return False # if all angles were valid but none of them were 90, the code reaches this part and simply returns False without error.\n",
    "\n",
    "RightAngleCheck(90, 42, 45)\n"
   ]
  },
  {
   "cell_type": "markdown",
   "metadata": {},
   "source": [
    "## 4. Medicine (*)"
   ]
  },
  {
   "cell_type": "code",
   "execution_count": 53,
   "metadata": {},
   "outputs": [
    {
     "name": "stdout",
     "output_type": "stream",
     "text": [
      "1/2 - 1 pills.\n",
      "None\n"
     ]
    }
   ],
   "source": [
    "def RecommendedAmount(age, weight):\n",
    "    try:\n",
    "        age = int(age)\n",
    "        weight = int(weight)\n",
    "    except:\n",
    "        print(\"Invalid inputs.\")\n",
    "        return None\n",
    "    else: \n",
    "        age = int(age)\n",
    "        weight = int(weight)\n",
    "\n",
    "    if age < 3 or weight < 15 or (3 <= age <= 12 and weight > 40):\n",
    "        print(\"Consult a doctor.\")\n",
    "\n",
    "\n",
    "    if 3 <= age <= 12:\n",
    "        if 26 <= weight <= 40:\n",
    "            print(\"1/2 - 1 pills.\")\n",
    "        if 15 <= weight <= 25:\n",
    "            print(\"1/2 pills.\")\n",
    "    \n",
    "    if age > 12 and weight > 40:\n",
    "        print(\"1-2 pills.\")\n",
    "\n",
    "print(RecommendedAmount(input(\"Input your age: \"), input(\"Input your weight(kg): \")))"
   ]
  },
  {
   "cell_type": "markdown",
   "metadata": {},
   "source": [
    "## 5. Divisible (*)"
   ]
  },
  {
   "cell_type": "code",
   "execution_count": 60,
   "metadata": {},
   "outputs": [
    {
     "name": "stdout",
     "output_type": "stream",
     "text": [
      "10 is even.\n",
      "10 is divisible by 5.\n",
      "10 is either even or not divisible by 5.\n"
     ]
    }
   ],
   "source": [
    "def DivisibilityChecks(num):\n",
    "    print(f\"{num} is odd.\") if num % 2 == 1 else print(f\"{num} is even.\")\n",
    "    print(f\"{num} is divisible by 5.\") if num % 5 == 0 else print(f\"{num} is not divisible by 5.\")\n",
    "    print(f\"{num} is both odd and divisible by 5.\") if (num % 5 == 0 and num % 2 == 1) else print(f\"{num} is either even or not divisible by 5.\")\n",
    "\n",
    "\n",
    "DivisibilityChecks(10)"
   ]
  },
  {
   "cell_type": "markdown",
   "metadata": {},
   "source": [
    "## 6. Luggage Size (*)"
   ]
  },
  {
   "cell_type": "code",
   "execution_count": 67,
   "metadata": {},
   "outputs": [
    {
     "name": "stdout",
     "output_type": "stream",
     "text": [
      "Go away.\n"
     ]
    }
   ],
   "source": [
    "def LuggageSize(weight, length, width, height):\n",
    "    if weight >= 8 or length > 55 or width > 40 or height > 23:\n",
    "        print(\"Go away.\")\n",
    "        return None\n",
    "    print(\"Welcome aboard.\")\n",
    "\n",
    "LuggageSize(8, 40, 40, 20)\n"
   ]
  }
 ],
 "metadata": {
  "kernelspec": {
   "display_name": "Python 3.9.13 64-bit",
   "language": "python",
   "name": "python3"
  },
  "language_info": {
   "codemirror_mode": {
    "name": "ipython",
    "version": 3
   },
   "file_extension": ".py",
   "mimetype": "text/x-python",
   "name": "python",
   "nbconvert_exporter": "python",
   "pygments_lexer": "ipython3",
   "version": "3.9.13"
  },
  "orig_nbformat": 4,
  "vscode": {
   "interpreter": {
    "hash": "591918dbf680b2bdff6f4384b96f2237519b8ab6acfadf1c6cb7dfdafe56e2cb"
   }
  }
 },
 "nbformat": 4,
 "nbformat_minor": 2
}
