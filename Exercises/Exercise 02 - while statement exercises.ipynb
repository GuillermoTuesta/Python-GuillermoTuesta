{
 "cells": [
  {
   "cell_type": "markdown",
   "metadata": {},
   "source": [
    "## 1. Count numbers (*)"
   ]
  },
  {
   "cell_type": "code",
   "execution_count": null,
   "metadata": {},
   "outputs": [],
   "source": [
    "def CountSequence(start, end):\n",
    "    if type(start) == float or type(end) == float:\n",
    "        print(\"IncrementSum: Only Integer inputs are accepted!\")\n",
    "        return None \n",
    "\n",
    "    try:\n",
    "        start = int(start)\n",
    "        end = int(end)\n",
    "    except:\n",
    "        print(\"Invalid inputs!\")\n",
    "        return None\n",
    "    else:\n",
    "        start = int(start)\n",
    "        end = int(end)\n",
    "\n",
    "    if start > end:\n",
    "        print(\"IncrementSum: Start cannot be larger than or equal to end.\")\n",
    "        return None\n",
    "\n",
    "    while start <= end:\n",
    "        print(start)\n",
    "        start += 1\n",
    "\n",
    "CountSequence(-10,10)\n",
    "\n",
    "CountSequence(input(\"Input start of count sequence: \"), input(\"Input end of count sequence: \"))\n"
   ]
  },
  {
   "cell_type": "markdown",
   "metadata": {},
   "source": [
    "## 2. Arithmetic Sum (*)"
   ]
  },
  {
   "cell_type": "code",
   "execution_count": 27,
   "metadata": {},
   "outputs": [
    {
     "data": {
      "text/plain": [
       "2500"
      ]
     },
     "execution_count": 27,
     "metadata": {},
     "output_type": "execute_result"
    }
   ],
   "source": [
    "def ArithmeticSum(start, end, difference = 1):\n",
    "    if type(start) == float or type(end) == float or type(difference) == float:\n",
    "        print(\"ArithmeticSum: Float values are not accepted!\")\n",
    "        return None\n",
    "\n",
    "    try:\n",
    "        start = int(start)\n",
    "        end = int(end)\n",
    "        if difference == \"\":\n",
    "            difference = 1\n",
    "        difference = int(difference)\n",
    "    except:\n",
    "        print(\"ArithmeticSum: Invalid inputs!\")\n",
    "        return None\n",
    "    else:\n",
    "        start = int(start)\n",
    "        end = int(end)\n",
    "        difference = int(difference)\n",
    "    \n",
    "    if difference == 0:\n",
    "        print(\"ArithmeticSum: 'Difference' cannot be zero.\")\n",
    "        return None\n",
    "\n",
    "    sum = 0\n",
    "    while start <= end:\n",
    "        sum += start\n",
    "        start += difference\n",
    "    return sum\n",
    "\n",
    "ArithmeticSum(input(\"Input start of the arithmetic sum:\"), input(\"Input the end of the arithmetic sum:\"), input(\"Input difference in each 'step' (optional): \"))"
   ]
  },
  {
   "cell_type": "markdown",
   "metadata": {},
   "source": [
    "## 3. Guess Number Game (*)"
   ]
  },
  {
   "cell_type": "code",
   "execution_count": 11,
   "metadata": {},
   "outputs": [
    {
     "name": "stdout",
     "output_type": "stream",
     "text": [
      "The correct value is smaller than 50.\n",
      "The correct value is smaller than 50.\n",
      "The correct value is smaller than 25.\n",
      "The correct value is larger than 10.\n",
      "The correct value is smaller than 20.\n",
      "The correct value is larger than 15.\n",
      "Congrats, the number was indeed 17!\n"
     ]
    }
   ],
   "source": [
    "from random import randint\n",
    "\n",
    "def NumberGuessingGame():\n",
    "    CorrectValue = randint(1,100)\n",
    "    Guess = -1\n",
    "\n",
    "    while Guess != CorrectValue:\n",
    "\n",
    "        Guess = input(\"Guess the correct value (Write 'stop' to exit this game): \")\n",
    "        \n",
    "        if Guess == \"stop\":\n",
    "            return None\n",
    "\n",
    "        if type(Guess) == float:\n",
    "            print(\"Float values not accepted, try again!\")\n",
    "            continue\n",
    "\n",
    "        try: \n",
    "            Guess = int(Guess)\n",
    "        except:\n",
    "            print(\"Invalid Input, Try again!\")\n",
    "            continue\n",
    "        else:\n",
    "            Guess = int(Guess)\n",
    "\n",
    "        if Guess < CorrectValue and Guess != -1:\n",
    "            print(f\"The correct value is larger than {Guess}.\")\n",
    "        \n",
    "        if Guess > CorrectValue:\n",
    "            print(f\"The correct value is smaller than {Guess}.\")\n",
    "        \n",
    "    print(f\"Congrats, the number was indeed {CorrectValue}!\")\n",
    "\n",
    "NumberGuessingGame()\n",
    "\n"
   ]
  },
  {
   "cell_type": "markdown",
   "metadata": {},
   "source": [
    "b) The clue given to the user states wether the guess is above or below the correct number. This can be used to our advantage, as it can cut down the range of possible values.\n",
    "If I guess the number '99', and the game then tells me that the guess is above the correct value, then I still have 98 possible values to guess between. \n",
    "So it is best to first guess '50', and add/remove half of the guess depending on if the correct value is above or below. You will exclude half of the possible values with each guess. (50 -> 25 -> 13, or 50 -> 75 -> 87, etc.)"
   ]
  },
  {
   "cell_type": "markdown",
   "metadata": {},
   "source": [
    "## 4. Multiplication Game (*)"
   ]
  },
  {
   "cell_type": "code",
   "execution_count": 2,
   "metadata": {},
   "outputs": [
    {
     "name": "stdout",
     "output_type": "stream",
     "text": [
      "Multiplication Game: Choose a difficulty setting and calculate the products correctly to gather points. Enter 'exit' at any input prompt to exit the game.\n",
      "Good job! You get 1 amount of points! Your total score right now is 1.\n",
      "Good job! You get 1 amount of points! Your total score right now is 2.\n",
      "Good job! You get 1 amount of points! Your total score right now is 3.\n",
      "Thanks for playing! Your final score is: 3. Try beating that next time!\n"
     ]
    }
   ],
   "source": [
    "from random import randint\n",
    "\n",
    "\n",
    "def MultiplicationGame():\n",
    "    print(\"Multiplication Game: Choose a difficulty setting and calculate the products correctly to gather points. Enter 'exit' at any input prompt to exit the game.\")\n",
    "    ExitString = 'exitEXIT'\n",
    "    ExitGame = False\n",
    "    UserScore = 0\n",
    "\n",
    "    while not ExitGame:\n",
    "\n",
    "        AwaitingDifficultySetting = True\n",
    "        AwaitingAnswer = True\n",
    "        CorrectlyGuessed = False\n",
    "\n",
    "        while AwaitingDifficultySetting and not ExitGame:\n",
    "            UserInput = input(\"Pick either 1-10, 1-15, or 1-20 as the available range for both 'a' and 'b'. You get more score the bigger range you choose: \")\n",
    "\n",
    "            if UserInput in ExitString:\n",
    "                ExitGame = True\n",
    "                break\n",
    "\n",
    "            if UserInput in '1-10':\n",
    "                ChosenRange = 10\n",
    "                PendingScore = 1\n",
    "                AwaitingDifficultySetting = False\n",
    "            elif UserInput in '1-15':\n",
    "                ChosenRange = 15\n",
    "                PendingScore = 2\n",
    "                AwaitingDifficultySetting = False\n",
    "            elif UserInput in '1-20':\n",
    "                ChosenRange = 20\n",
    "                PendingScore = 3\n",
    "                AwaitingDifficultySetting = False\n",
    "            else:\n",
    "                print(\"Invalid Input! Try entering again (You can also just write '3' , '5' , and '10' for each setting).\")\n",
    "\n",
    "        if ExitGame == True:\n",
    "            break\n",
    "\n",
    "        NumA = randint(2,ChosenRange)\n",
    "        NumB = randint(2,ChosenRange)\n",
    "        ProductAB = NumA * NumB\n",
    "\n",
    "        UserAnswer = input(f\"a = {NumA}, b = {NumB}. What is a * b? \")\n",
    "\n",
    "        if UserAnswer in ExitString:\n",
    "            ExitGame = True\n",
    "            break\n",
    "\n",
    "        if int(UserAnswer) == ProductAB:\n",
    "            UserScore += PendingScore\n",
    "            print(f\"Good job! You get {PendingScore} amount of points! Your total score right now is {UserScore}.\")\n",
    "\n",
    "        else:\n",
    "            print(f\"Wrong! Your answer was {UserAnswer}, but the correct answer was {ProductAB}. No points for you.\")  \n",
    "    \n",
    "    print(f\"Thanks for playing! Your final score is: {UserScore}. Try beating that next time!\")\n",
    "\n",
    "MultiplicationGame()\n"
   ]
  },
  {
   "cell_type": "markdown",
   "metadata": {},
   "source": [
    "## 5. Check Convergence (**)"
   ]
  },
  {
   "cell_type": "code",
   "execution_count": 8,
   "metadata": {},
   "outputs": [
    {
     "ename": "KeyboardInterrupt",
     "evalue": "",
     "output_type": "error",
     "traceback": [
      "\u001b[1;31m---------------------------------------------------------------------------\u001b[0m",
      "\u001b[1;31mKeyboardInterrupt\u001b[0m                         Traceback (most recent call last)",
      "\u001b[1;32mc:\\OD\\OneDrive - onmidroc\\Documents\\Github\\Python-GuillermoTuesta\\Exercises\\Exercise 02 - while statement exercises.ipynb Cell 11\u001b[0m in \u001b[0;36m<cell line: 23>\u001b[1;34m()\u001b[0m\n\u001b[0;32m     <a href='vscode-notebook-cell:/c%3A/OD/OneDrive%20-%20onmidroc/Documents/Github/Python-GuillermoTuesta/Exercises/Exercise%2002%20-%20while%20statement%20exercises.ipynb#X13sZmlsZQ%3D%3D?line=18'>19</a>\u001b[0m         Exponent \u001b[39m+\u001b[39m\u001b[39m=\u001b[39m \u001b[39m1\u001b[39m\n\u001b[0;32m     <a href='vscode-notebook-cell:/c%3A/OD/OneDrive%20-%20onmidroc/Documents/Github/Python-GuillermoTuesta/Exercises/Exercise%2002%20-%20while%20statement%20exercises.ipynb#X13sZmlsZQ%3D%3D?line=20'>21</a>\u001b[0m     \u001b[39mreturn\u001b[39;00m Sum\n\u001b[1;32m---> <a href='vscode-notebook-cell:/c%3A/OD/OneDrive%20-%20onmidroc/Documents/Github/Python-GuillermoTuesta/Exercises/Exercise%2002%20-%20while%20statement%20exercises.ipynb#X13sZmlsZQ%3D%3D?line=22'>23</a>\u001b[0m AlternatingOddPowerSum(\u001b[39mint\u001b[39;49m(\u001b[39minput\u001b[39;49m(\u001b[39m\"\u001b[39;49m\u001b[39mChoose an integer limit (This series converges to (pi/4):  \u001b[39;49m\u001b[39m\"\u001b[39;49m)))\n",
      "\u001b[1;32mc:\\OD\\OneDrive - onmidroc\\Documents\\Github\\Python-GuillermoTuesta\\Exercises\\Exercise 02 - while statement exercises.ipynb Cell 11\u001b[0m in \u001b[0;36mAlternatingOddPowerSum\u001b[1;34m(n)\u001b[0m\n\u001b[0;32m     <a href='vscode-notebook-cell:/c%3A/OD/OneDrive%20-%20onmidroc/Documents/Github/Python-GuillermoTuesta/Exercises/Exercise%2002%20-%20while%20statement%20exercises.ipynb#X13sZmlsZQ%3D%3D?line=16'>17</a>\u001b[0m \u001b[39mwhile\u001b[39;00m Exponent \u001b[39m<\u001b[39m\u001b[39m=\u001b[39m n:\n\u001b[0;32m     <a href='vscode-notebook-cell:/c%3A/OD/OneDrive%20-%20onmidroc/Documents/Github/Python-GuillermoTuesta/Exercises/Exercise%2002%20-%20while%20statement%20exercises.ipynb#X13sZmlsZQ%3D%3D?line=17'>18</a>\u001b[0m     Sum \u001b[39m+\u001b[39m\u001b[39m=\u001b[39m ((\u001b[39m-\u001b[39m\u001b[39m1\u001b[39m)\u001b[39m*\u001b[39m\u001b[39m*\u001b[39mExponent)\u001b[39m/\u001b[39m(Exponent\u001b[39m*\u001b[39m\u001b[39m2\u001b[39m \u001b[39m+\u001b[39m \u001b[39m1\u001b[39m)\n\u001b[1;32m---> <a href='vscode-notebook-cell:/c%3A/OD/OneDrive%20-%20onmidroc/Documents/Github/Python-GuillermoTuesta/Exercises/Exercise%2002%20-%20while%20statement%20exercises.ipynb#X13sZmlsZQ%3D%3D?line=18'>19</a>\u001b[0m     Exponent \u001b[39m+\u001b[39m\u001b[39m=\u001b[39m \u001b[39m1\u001b[39m\n\u001b[0;32m     <a href='vscode-notebook-cell:/c%3A/OD/OneDrive%20-%20onmidroc/Documents/Github/Python-GuillermoTuesta/Exercises/Exercise%2002%20-%20while%20statement%20exercises.ipynb#X13sZmlsZQ%3D%3D?line=20'>21</a>\u001b[0m \u001b[39mreturn\u001b[39;00m Sum\n",
      "\u001b[1;31mKeyboardInterrupt\u001b[0m: "
     ]
    }
   ],
   "source": [
    "def InversePowersOfTwo(n):\n",
    "    Sum = 0\n",
    "    Exponent = 0\n",
    "\n",
    "    while Exponent <= n:\n",
    "        Sum += 1/(2**Exponent)\n",
    "        Exponent += 1\n",
    "\n",
    "    return Sum\n",
    "\n",
    "#InversePowersOfTwo(int(input(\"Choose an integer value as the limit (this function converges to '2' at around 60): \")))\n",
    "\n",
    "def AlternatingOddPowerSum(n):\n",
    "    Sum = 0\n",
    "    Exponent = 0\n",
    "\n",
    "    while Exponent <= n:\n",
    "        Sum += ((-1)**Exponent)/(Exponent*2 + 1)\n",
    "        Exponent += 1\n",
    "    \n",
    "    return Sum\n",
    "\n",
    "AlternatingOddPowerSum(int(input(\"Choose an integer limit (This series converges to (pi/4):  \")))\n",
    "# n = 9999999 gives 0.7853981383974479"
   ]
  }
 ],
 "metadata": {
  "kernelspec": {
   "display_name": "Python 3.9.13 64-bit",
   "language": "python",
   "name": "python3"
  },
  "language_info": {
   "codemirror_mode": {
    "name": "ipython",
    "version": 3
   },
   "file_extension": ".py",
   "mimetype": "text/x-python",
   "name": "python",
   "nbconvert_exporter": "python",
   "pygments_lexer": "ipython3",
   "version": "3.9.13"
  },
  "orig_nbformat": 4,
  "vscode": {
   "interpreter": {
    "hash": "591918dbf680b2bdff6f4384b96f2237519b8ab6acfadf1c6cb7dfdafe56e2cb"
   }
  }
 },
 "nbformat": 4,
 "nbformat_minor": 2
}
